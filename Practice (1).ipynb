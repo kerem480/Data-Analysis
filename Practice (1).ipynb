{
 "cells": [
  {
   "cell_type": "code",
   "execution_count": 27,
   "id": "b42144d0",
   "metadata": {},
   "outputs": [],
   "source": [
    "import pandas as pd\n",
    "import numpy as np\n",
    "import matplotlib.pyplot as plt\n",
    "from scipy import stats\n",
    "import seaborn as sns; sns.set()\n",
    "from sklearn.datasets import make_blobs"
   ]
  },
  {
   "cell_type": "code",
   "execution_count": 28,
   "id": "e365bb2a",
   "metadata": {},
   "outputs": [],
   "source": [
    "df=pd.read_csv(\"C:\\\\Users\\\\90533\\\\Desktop\\\\players.csv\")"
   ]
  },
  {
   "cell_type": "code",
   "execution_count": 29,
   "id": "ec6d3c48",
   "metadata": {},
   "outputs": [],
   "source": [
    "df.rename(columns={\"Unnamed: 0\":\"Point\",\"Markey Value In Millions(£)\":\"Market_Value\"},inplace=True)"
   ]
  },
  {
   "cell_type": "code",
   "execution_count": 30,
   "id": "49238865",
   "metadata": {
    "scrolled": true
   },
   "outputs": [
    {
     "data": {
      "text/html": [
       "<div>\n",
       "<style scoped>\n",
       "    .dataframe tbody tr th:only-of-type {\n",
       "        vertical-align: middle;\n",
       "    }\n",
       "\n",
       "    .dataframe tbody tr th {\n",
       "        vertical-align: top;\n",
       "    }\n",
       "\n",
       "    .dataframe thead th {\n",
       "        text-align: right;\n",
       "    }\n",
       "</style>\n",
       "<table border=\"1\" class=\"dataframe\">\n",
       "  <thead>\n",
       "    <tr style=\"text-align: right;\">\n",
       "      <th></th>\n",
       "      <th>Point</th>\n",
       "      <th>Name</th>\n",
       "      <th>Position</th>\n",
       "      <th>Age</th>\n",
       "      <th>Market_Value</th>\n",
       "      <th>Country</th>\n",
       "      <th>Club</th>\n",
       "      <th>Matches</th>\n",
       "      <th>Goals</th>\n",
       "      <th>Own Goals</th>\n",
       "      <th>Assists</th>\n",
       "      <th>Yellow Cards</th>\n",
       "      <th>Second Yellow Cards</th>\n",
       "      <th>Red Cards</th>\n",
       "      <th>Number Of Substitute In</th>\n",
       "      <th>Number Of Substitute Out</th>\n",
       "    </tr>\n",
       "  </thead>\n",
       "  <tbody>\n",
       "    <tr>\n",
       "      <th>0</th>\n",
       "      <td>0</td>\n",
       "      <td>Kylian Mbappé</td>\n",
       "      <td>Centre-Forward</td>\n",
       "      <td>22</td>\n",
       "      <td>144.0</td>\n",
       "      <td>France</td>\n",
       "      <td>Paris Saint-Germain</td>\n",
       "      <td>16</td>\n",
       "      <td>7</td>\n",
       "      <td>0</td>\n",
       "      <td>11</td>\n",
       "      <td>3</td>\n",
       "      <td>0</td>\n",
       "      <td>0</td>\n",
       "      <td>0</td>\n",
       "      <td>8</td>\n",
       "    </tr>\n",
       "    <tr>\n",
       "      <th>1</th>\n",
       "      <td>1</td>\n",
       "      <td>Erling Haaland</td>\n",
       "      <td>Centre-Forward</td>\n",
       "      <td>21</td>\n",
       "      <td>135.0</td>\n",
       "      <td>Norway</td>\n",
       "      <td>Borussia Dortmund</td>\n",
       "      <td>10</td>\n",
       "      <td>13</td>\n",
       "      <td>0</td>\n",
       "      <td>4</td>\n",
       "      <td>1</td>\n",
       "      <td>0</td>\n",
       "      <td>0</td>\n",
       "      <td>0</td>\n",
       "      <td>1</td>\n",
       "    </tr>\n",
       "    <tr>\n",
       "      <th>2</th>\n",
       "      <td>2</td>\n",
       "      <td>Harry Kane</td>\n",
       "      <td>Centre-Forward</td>\n",
       "      <td>28</td>\n",
       "      <td>108.0</td>\n",
       "      <td>England</td>\n",
       "      <td>Tottenham Hotspur</td>\n",
       "      <td>16</td>\n",
       "      <td>7</td>\n",
       "      <td>0</td>\n",
       "      <td>2</td>\n",
       "      <td>2</td>\n",
       "      <td>0</td>\n",
       "      <td>0</td>\n",
       "      <td>2</td>\n",
       "      <td>2</td>\n",
       "    </tr>\n",
       "    <tr>\n",
       "      <th>3</th>\n",
       "      <td>3</td>\n",
       "      <td>Jack Grealish</td>\n",
       "      <td>Left Winger</td>\n",
       "      <td>26</td>\n",
       "      <td>90.0</td>\n",
       "      <td>England</td>\n",
       "      <td>Manchester City</td>\n",
       "      <td>15</td>\n",
       "      <td>2</td>\n",
       "      <td>0</td>\n",
       "      <td>3</td>\n",
       "      <td>1</td>\n",
       "      <td>0</td>\n",
       "      <td>0</td>\n",
       "      <td>2</td>\n",
       "      <td>8</td>\n",
       "    </tr>\n",
       "    <tr>\n",
       "      <th>4</th>\n",
       "      <td>4</td>\n",
       "      <td>Mohamed Salah</td>\n",
       "      <td>Right Winger</td>\n",
       "      <td>29</td>\n",
       "      <td>90.0</td>\n",
       "      <td>Egypt</td>\n",
       "      <td>Liverpool FC</td>\n",
       "      <td>15</td>\n",
       "      <td>15</td>\n",
       "      <td>0</td>\n",
       "      <td>6</td>\n",
       "      <td>1</td>\n",
       "      <td>0</td>\n",
       "      <td>0</td>\n",
       "      <td>0</td>\n",
       "      <td>3</td>\n",
       "    </tr>\n",
       "  </tbody>\n",
       "</table>\n",
       "</div>"
      ],
      "text/plain": [
       "   Point            Name        Position  Age  Market_Value  Country  \\\n",
       "0      0   Kylian Mbappé  Centre-Forward   22         144.0   France   \n",
       "1      1  Erling Haaland  Centre-Forward   21         135.0   Norway   \n",
       "2      2      Harry Kane  Centre-Forward   28         108.0  England   \n",
       "3      3   Jack Grealish     Left Winger   26          90.0  England   \n",
       "4      4   Mohamed Salah    Right Winger   29          90.0    Egypt   \n",
       "\n",
       "                  Club  Matches  Goals  Own Goals  Assists  Yellow Cards  \\\n",
       "0  Paris Saint-Germain       16      7          0       11             3   \n",
       "1    Borussia Dortmund       10     13          0        4             1   \n",
       "2    Tottenham Hotspur       16      7          0        2             2   \n",
       "3      Manchester City       15      2          0        3             1   \n",
       "4         Liverpool FC       15     15          0        6             1   \n",
       "\n",
       "   Second Yellow Cards  Red Cards  Number Of Substitute In  \\\n",
       "0                    0          0                        0   \n",
       "1                    0          0                        0   \n",
       "2                    0          0                        2   \n",
       "3                    0          0                        2   \n",
       "4                    0          0                        0   \n",
       "\n",
       "   Number Of Substitute Out  \n",
       "0                         8  \n",
       "1                         1  \n",
       "2                         2  \n",
       "3                         8  \n",
       "4                         3  "
      ]
     },
     "execution_count": 30,
     "metadata": {},
     "output_type": "execute_result"
    }
   ],
   "source": [
    "df.head()"
   ]
  },
  {
   "cell_type": "code",
   "execution_count": 31,
   "id": "097f6fbf",
   "metadata": {},
   "outputs": [
    {
     "data": {
      "text/html": [
       "<div>\n",
       "<style scoped>\n",
       "    .dataframe tbody tr th:only-of-type {\n",
       "        vertical-align: middle;\n",
       "    }\n",
       "\n",
       "    .dataframe tbody tr th {\n",
       "        vertical-align: top;\n",
       "    }\n",
       "\n",
       "    .dataframe thead th {\n",
       "        text-align: right;\n",
       "    }\n",
       "</style>\n",
       "<table border=\"1\" class=\"dataframe\">\n",
       "  <thead>\n",
       "    <tr style=\"text-align: right;\">\n",
       "      <th></th>\n",
       "      <th></th>\n",
       "      <th>Point</th>\n",
       "      <th>Position</th>\n",
       "      <th>Age</th>\n",
       "      <th>Market_Value</th>\n",
       "      <th>Country</th>\n",
       "      <th>Matches</th>\n",
       "      <th>Goals</th>\n",
       "      <th>Own Goals</th>\n",
       "      <th>Assists</th>\n",
       "      <th>Yellow Cards</th>\n",
       "      <th>Second Yellow Cards</th>\n",
       "      <th>Red Cards</th>\n",
       "      <th>Number Of Substitute In</th>\n",
       "      <th>Number Of Substitute Out</th>\n",
       "    </tr>\n",
       "    <tr>\n",
       "      <th>Club</th>\n",
       "      <th>Name</th>\n",
       "      <th></th>\n",
       "      <th></th>\n",
       "      <th></th>\n",
       "      <th></th>\n",
       "      <th></th>\n",
       "      <th></th>\n",
       "      <th></th>\n",
       "      <th></th>\n",
       "      <th></th>\n",
       "      <th></th>\n",
       "      <th></th>\n",
       "      <th></th>\n",
       "      <th></th>\n",
       "      <th></th>\n",
       "    </tr>\n",
       "  </thead>\n",
       "  <tbody>\n",
       "    <tr>\n",
       "      <th rowspan=\"5\" valign=\"top\">AC Milan</th>\n",
       "      <th>Alessio Romagnoli</th>\n",
       "      <td>439</td>\n",
       "      <td>Centre-Back</td>\n",
       "      <td>26</td>\n",
       "      <td>18.0</td>\n",
       "      <td>Italy</td>\n",
       "      <td>11</td>\n",
       "      <td>0</td>\n",
       "      <td>0</td>\n",
       "      <td>0</td>\n",
       "      <td>1</td>\n",
       "      <td>0</td>\n",
       "      <td>0</td>\n",
       "      <td>3</td>\n",
       "      <td>1</td>\n",
       "    </tr>\n",
       "    <tr>\n",
       "      <th>Alexis Saelemaekers</th>\n",
       "      <td>476</td>\n",
       "      <td>Right Winger</td>\n",
       "      <td>22</td>\n",
       "      <td>16.2</td>\n",
       "      <td>Belgium</td>\n",
       "      <td>16</td>\n",
       "      <td>0</td>\n",
       "      <td>0</td>\n",
       "      <td>2</td>\n",
       "      <td>2</td>\n",
       "      <td>0</td>\n",
       "      <td>0</td>\n",
       "      <td>4</td>\n",
       "      <td>7</td>\n",
       "    </tr>\n",
       "    <tr>\n",
       "      <th>Ante Rebic</th>\n",
       "      <td>199</td>\n",
       "      <td>Left Winger</td>\n",
       "      <td>28</td>\n",
       "      <td>28.8</td>\n",
       "      <td>Croatia</td>\n",
       "      <td>11</td>\n",
       "      <td>2</td>\n",
       "      <td>0</td>\n",
       "      <td>2</td>\n",
       "      <td>1</td>\n",
       "      <td>0</td>\n",
       "      <td>0</td>\n",
       "      <td>3</td>\n",
       "      <td>5</td>\n",
       "    </tr>\n",
       "    <tr>\n",
       "      <th>Brahim Díaz</th>\n",
       "      <td>342</td>\n",
       "      <td>Attacking Midfield</td>\n",
       "      <td>22</td>\n",
       "      <td>20.7</td>\n",
       "      <td>Spain</td>\n",
       "      <td>11</td>\n",
       "      <td>4</td>\n",
       "      <td>0</td>\n",
       "      <td>2</td>\n",
       "      <td>3</td>\n",
       "      <td>0</td>\n",
       "      <td>0</td>\n",
       "      <td>1</td>\n",
       "      <td>9</td>\n",
       "    </tr>\n",
       "    <tr>\n",
       "      <th>Davide Calabria</th>\n",
       "      <td>307</td>\n",
       "      <td>Right-Back</td>\n",
       "      <td>24</td>\n",
       "      <td>22.5</td>\n",
       "      <td>Italy</td>\n",
       "      <td>14</td>\n",
       "      <td>2</td>\n",
       "      <td>0</td>\n",
       "      <td>1</td>\n",
       "      <td>2</td>\n",
       "      <td>0</td>\n",
       "      <td>0</td>\n",
       "      <td>1</td>\n",
       "      <td>2</td>\n",
       "    </tr>\n",
       "    <tr>\n",
       "      <th>...</th>\n",
       "      <th>...</th>\n",
       "      <td>...</td>\n",
       "      <td>...</td>\n",
       "      <td>...</td>\n",
       "      <td>...</td>\n",
       "      <td>...</td>\n",
       "      <td>...</td>\n",
       "      <td>...</td>\n",
       "      <td>...</td>\n",
       "      <td>...</td>\n",
       "      <td>...</td>\n",
       "      <td>...</td>\n",
       "      <td>...</td>\n",
       "      <td>...</td>\n",
       "      <td>...</td>\n",
       "    </tr>\n",
       "    <tr>\n",
       "      <th>Wolverhampton Wanderers</th>\n",
       "      <th>Rúben Neves</th>\n",
       "      <td>117</td>\n",
       "      <td>Defensive Midfield</td>\n",
       "      <td>24</td>\n",
       "      <td>37.8</td>\n",
       "      <td>Portugal</td>\n",
       "      <td>13</td>\n",
       "      <td>1</td>\n",
       "      <td>0</td>\n",
       "      <td>0</td>\n",
       "      <td>4</td>\n",
       "      <td>0</td>\n",
       "      <td>0</td>\n",
       "      <td>2</td>\n",
       "      <td>1</td>\n",
       "    </tr>\n",
       "    <tr>\n",
       "      <th rowspan=\"4\" valign=\"top\">Zenit St. Petersburg</th>\n",
       "      <th>Malcom</th>\n",
       "      <td>362</td>\n",
       "      <td>Right Winger</td>\n",
       "      <td>24</td>\n",
       "      <td>19.8</td>\n",
       "      <td>Brazil</td>\n",
       "      <td>15</td>\n",
       "      <td>3</td>\n",
       "      <td>0</td>\n",
       "      <td>5</td>\n",
       "      <td>1</td>\n",
       "      <td>0</td>\n",
       "      <td>0</td>\n",
       "      <td>3</td>\n",
       "      <td>7</td>\n",
       "    </tr>\n",
       "    <tr>\n",
       "      <th>Sardar Azmoun</th>\n",
       "      <td>317</td>\n",
       "      <td>Centre-Forward</td>\n",
       "      <td>26</td>\n",
       "      <td>22.5</td>\n",
       "      <td>Iran</td>\n",
       "      <td>18</td>\n",
       "      <td>9</td>\n",
       "      <td>0</td>\n",
       "      <td>4</td>\n",
       "      <td>1</td>\n",
       "      <td>0</td>\n",
       "      <td>1</td>\n",
       "      <td>5</td>\n",
       "      <td>4</td>\n",
       "    </tr>\n",
       "    <tr>\n",
       "      <th>Wendel</th>\n",
       "      <td>468</td>\n",
       "      <td>Central Midfield</td>\n",
       "      <td>24</td>\n",
       "      <td>16.2</td>\n",
       "      <td>Brazil</td>\n",
       "      <td>20</td>\n",
       "      <td>4</td>\n",
       "      <td>0</td>\n",
       "      <td>2</td>\n",
       "      <td>3</td>\n",
       "      <td>0</td>\n",
       "      <td>0</td>\n",
       "      <td>0</td>\n",
       "      <td>13</td>\n",
       "    </tr>\n",
       "    <tr>\n",
       "      <th>Wilmar Barrios</th>\n",
       "      <td>491</td>\n",
       "      <td>Defensive Midfield</td>\n",
       "      <td>28</td>\n",
       "      <td>16.2</td>\n",
       "      <td>Colombia</td>\n",
       "      <td>16</td>\n",
       "      <td>0</td>\n",
       "      <td>0</td>\n",
       "      <td>1</td>\n",
       "      <td>2</td>\n",
       "      <td>0</td>\n",
       "      <td>0</td>\n",
       "      <td>1</td>\n",
       "      <td>4</td>\n",
       "    </tr>\n",
       "  </tbody>\n",
       "</table>\n",
       "<p>500 rows × 14 columns</p>\n",
       "</div>"
      ],
      "text/plain": [
       "                                             Point            Position  Age  \\\n",
       "Club                    Name                                                  \n",
       "AC Milan                Alessio Romagnoli      439         Centre-Back   26   \n",
       "                        Alexis Saelemaekers    476        Right Winger   22   \n",
       "                        Ante Rebic             199         Left Winger   28   \n",
       "                        Brahim Díaz            342  Attacking Midfield   22   \n",
       "                        Davide Calabria        307          Right-Back   24   \n",
       "...                                            ...                 ...  ...   \n",
       "Wolverhampton Wanderers Rúben Neves            117  Defensive Midfield   24   \n",
       "Zenit St. Petersburg    Malcom                 362        Right Winger   24   \n",
       "                        Sardar Azmoun          317      Centre-Forward   26   \n",
       "                        Wendel                 468    Central Midfield   24   \n",
       "                        Wilmar Barrios         491  Defensive Midfield   28   \n",
       "\n",
       "                                             Market_Value   Country  Matches  \\\n",
       "Club                    Name                                                   \n",
       "AC Milan                Alessio Romagnoli            18.0     Italy       11   \n",
       "                        Alexis Saelemaekers          16.2   Belgium       16   \n",
       "                        Ante Rebic                   28.8   Croatia       11   \n",
       "                        Brahim Díaz                  20.7     Spain       11   \n",
       "                        Davide Calabria              22.5     Italy       14   \n",
       "...                                                   ...       ...      ...   \n",
       "Wolverhampton Wanderers Rúben Neves                  37.8  Portugal       13   \n",
       "Zenit St. Petersburg    Malcom                       19.8    Brazil       15   \n",
       "                        Sardar Azmoun                22.5      Iran       18   \n",
       "                        Wendel                       16.2    Brazil       20   \n",
       "                        Wilmar Barrios               16.2  Colombia       16   \n",
       "\n",
       "                                             Goals  Own Goals  Assists  \\\n",
       "Club                    Name                                             \n",
       "AC Milan                Alessio Romagnoli        0          0        0   \n",
       "                        Alexis Saelemaekers      0          0        2   \n",
       "                        Ante Rebic               2          0        2   \n",
       "                        Brahim Díaz              4          0        2   \n",
       "                        Davide Calabria          2          0        1   \n",
       "...                                            ...        ...      ...   \n",
       "Wolverhampton Wanderers Rúben Neves              1          0        0   \n",
       "Zenit St. Petersburg    Malcom                   3          0        5   \n",
       "                        Sardar Azmoun            9          0        4   \n",
       "                        Wendel                   4          0        2   \n",
       "                        Wilmar Barrios           0          0        1   \n",
       "\n",
       "                                             Yellow Cards  \\\n",
       "Club                    Name                                \n",
       "AC Milan                Alessio Romagnoli               1   \n",
       "                        Alexis Saelemaekers             2   \n",
       "                        Ante Rebic                      1   \n",
       "                        Brahim Díaz                     3   \n",
       "                        Davide Calabria                 2   \n",
       "...                                                   ...   \n",
       "Wolverhampton Wanderers Rúben Neves                     4   \n",
       "Zenit St. Petersburg    Malcom                          1   \n",
       "                        Sardar Azmoun                   1   \n",
       "                        Wendel                          3   \n",
       "                        Wilmar Barrios                  2   \n",
       "\n",
       "                                             Second Yellow Cards  Red Cards  \\\n",
       "Club                    Name                                                  \n",
       "AC Milan                Alessio Romagnoli                      0          0   \n",
       "                        Alexis Saelemaekers                    0          0   \n",
       "                        Ante Rebic                             0          0   \n",
       "                        Brahim Díaz                            0          0   \n",
       "                        Davide Calabria                        0          0   \n",
       "...                                                          ...        ...   \n",
       "Wolverhampton Wanderers Rúben Neves                            0          0   \n",
       "Zenit St. Petersburg    Malcom                                 0          0   \n",
       "                        Sardar Azmoun                          0          1   \n",
       "                        Wendel                                 0          0   \n",
       "                        Wilmar Barrios                         0          0   \n",
       "\n",
       "                                             Number Of Substitute In  \\\n",
       "Club                    Name                                           \n",
       "AC Milan                Alessio Romagnoli                          3   \n",
       "                        Alexis Saelemaekers                        4   \n",
       "                        Ante Rebic                                 3   \n",
       "                        Brahim Díaz                                1   \n",
       "                        Davide Calabria                            1   \n",
       "...                                                              ...   \n",
       "Wolverhampton Wanderers Rúben Neves                                2   \n",
       "Zenit St. Petersburg    Malcom                                     3   \n",
       "                        Sardar Azmoun                              5   \n",
       "                        Wendel                                     0   \n",
       "                        Wilmar Barrios                             1   \n",
       "\n",
       "                                             Number Of Substitute Out  \n",
       "Club                    Name                                           \n",
       "AC Milan                Alessio Romagnoli                           1  \n",
       "                        Alexis Saelemaekers                         7  \n",
       "                        Ante Rebic                                  5  \n",
       "                        Brahim Díaz                                 9  \n",
       "                        Davide Calabria                             2  \n",
       "...                                                               ...  \n",
       "Wolverhampton Wanderers Rúben Neves                                 1  \n",
       "Zenit St. Petersburg    Malcom                                      7  \n",
       "                        Sardar Azmoun                               4  \n",
       "                        Wendel                                     13  \n",
       "                        Wilmar Barrios                              4  \n",
       "\n",
       "[500 rows x 14 columns]"
      ]
     },
     "execution_count": 31,
     "metadata": {},
     "output_type": "execute_result"
    }
   ],
   "source": [
    "teams=df.groupby([\"Club\",\"Name\"])\n",
    "teams.first()"
   ]
  },
  {
   "cell_type": "code",
   "execution_count": 32,
   "id": "6d23b02a",
   "metadata": {
    "scrolled": true
   },
   "outputs": [
    {
     "data": {
      "text/html": [
       "<div>\n",
       "<style scoped>\n",
       "    .dataframe tbody tr th:only-of-type {\n",
       "        vertical-align: middle;\n",
       "    }\n",
       "\n",
       "    .dataframe tbody tr th {\n",
       "        vertical-align: top;\n",
       "    }\n",
       "\n",
       "    .dataframe thead tr th {\n",
       "        text-align: left;\n",
       "    }\n",
       "\n",
       "    .dataframe thead tr:last-of-type th {\n",
       "        text-align: right;\n",
       "    }\n",
       "</style>\n",
       "<table border=\"1\" class=\"dataframe\">\n",
       "  <thead>\n",
       "    <tr>\n",
       "      <th></th>\n",
       "      <th colspan=\"4\" halign=\"left\">Matches</th>\n",
       "      <th colspan=\"4\" halign=\"left\">Goals</th>\n",
       "      <th colspan=\"4\" halign=\"left\">Assists</th>\n",
       "    </tr>\n",
       "    <tr>\n",
       "      <th></th>\n",
       "      <th>mean</th>\n",
       "      <th>std</th>\n",
       "      <th>amin</th>\n",
       "      <th>amax</th>\n",
       "      <th>mean</th>\n",
       "      <th>std</th>\n",
       "      <th>amin</th>\n",
       "      <th>amax</th>\n",
       "      <th>mean</th>\n",
       "      <th>std</th>\n",
       "      <th>amin</th>\n",
       "      <th>amax</th>\n",
       "    </tr>\n",
       "    <tr>\n",
       "      <th>Club</th>\n",
       "      <th></th>\n",
       "      <th></th>\n",
       "      <th></th>\n",
       "      <th></th>\n",
       "      <th></th>\n",
       "      <th></th>\n",
       "      <th></th>\n",
       "      <th></th>\n",
       "      <th></th>\n",
       "      <th></th>\n",
       "      <th></th>\n",
       "      <th></th>\n",
       "    </tr>\n",
       "  </thead>\n",
       "  <tbody>\n",
       "    <tr>\n",
       "      <th>AC Milan</th>\n",
       "      <td>13.153846</td>\n",
       "      <td>3.782551</td>\n",
       "      <td>6</td>\n",
       "      <td>20</td>\n",
       "      <td>1.461538</td>\n",
       "      <td>1.613246</td>\n",
       "      <td>0</td>\n",
       "      <td>5</td>\n",
       "      <td>1.615385</td>\n",
       "      <td>1.980676</td>\n",
       "      <td>0</td>\n",
       "      <td>7</td>\n",
       "    </tr>\n",
       "    <tr>\n",
       "      <th>ACF Fiorentina</th>\n",
       "      <td>11.000000</td>\n",
       "      <td>2.828427</td>\n",
       "      <td>9</td>\n",
       "      <td>15</td>\n",
       "      <td>3.400000</td>\n",
       "      <td>4.979960</td>\n",
       "      <td>0</td>\n",
       "      <td>12</td>\n",
       "      <td>1.200000</td>\n",
       "      <td>1.303840</td>\n",
       "      <td>0</td>\n",
       "      <td>3</td>\n",
       "    </tr>\n",
       "    <tr>\n",
       "      <th>AS Monaco</th>\n",
       "      <td>19.500000</td>\n",
       "      <td>2.777460</td>\n",
       "      <td>16</td>\n",
       "      <td>24</td>\n",
       "      <td>3.625000</td>\n",
       "      <td>2.973094</td>\n",
       "      <td>0</td>\n",
       "      <td>8</td>\n",
       "      <td>2.125000</td>\n",
       "      <td>2.232071</td>\n",
       "      <td>0</td>\n",
       "      <td>6</td>\n",
       "    </tr>\n",
       "    <tr>\n",
       "      <th>AS Roma</th>\n",
       "      <td>13.555556</td>\n",
       "      <td>6.247222</td>\n",
       "      <td>0</td>\n",
       "      <td>18</td>\n",
       "      <td>2.666667</td>\n",
       "      <td>2.645751</td>\n",
       "      <td>0</td>\n",
       "      <td>8</td>\n",
       "      <td>1.222222</td>\n",
       "      <td>1.301708</td>\n",
       "      <td>0</td>\n",
       "      <td>3</td>\n",
       "    </tr>\n",
       "    <tr>\n",
       "      <th>Ajax Amsterdam</th>\n",
       "      <td>15.833333</td>\n",
       "      <td>1.169045</td>\n",
       "      <td>14</td>\n",
       "      <td>17</td>\n",
       "      <td>4.333333</td>\n",
       "      <td>5.006662</td>\n",
       "      <td>0</td>\n",
       "      <td>14</td>\n",
       "      <td>3.166667</td>\n",
       "      <td>2.041241</td>\n",
       "      <td>1</td>\n",
       "      <td>6</td>\n",
       "    </tr>\n",
       "    <tr>\n",
       "      <th>Al-Rayyan SC</th>\n",
       "      <td>3.000000</td>\n",
       "      <td>NaN</td>\n",
       "      <td>3</td>\n",
       "      <td>3</td>\n",
       "      <td>1.000000</td>\n",
       "      <td>NaN</td>\n",
       "      <td>1</td>\n",
       "      <td>1</td>\n",
       "      <td>1.000000</td>\n",
       "      <td>NaN</td>\n",
       "      <td>1</td>\n",
       "      <td>1</td>\n",
       "    </tr>\n",
       "    <tr>\n",
       "      <th>Arsenal FC</th>\n",
       "      <td>9.533333</td>\n",
       "      <td>2.614975</td>\n",
       "      <td>5</td>\n",
       "      <td>15</td>\n",
       "      <td>1.533333</td>\n",
       "      <td>2.199567</td>\n",
       "      <td>0</td>\n",
       "      <td>7</td>\n",
       "      <td>0.800000</td>\n",
       "      <td>1.014185</td>\n",
       "      <td>0</td>\n",
       "      <td>3</td>\n",
       "    </tr>\n",
       "    <tr>\n",
       "      <th>Aston Villa</th>\n",
       "      <td>9.090909</td>\n",
       "      <td>2.071451</td>\n",
       "      <td>5</td>\n",
       "      <td>12</td>\n",
       "      <td>0.909091</td>\n",
       "      <td>1.044466</td>\n",
       "      <td>0</td>\n",
       "      <td>3</td>\n",
       "      <td>0.909091</td>\n",
       "      <td>0.831209</td>\n",
       "      <td>0</td>\n",
       "      <td>2</td>\n",
       "    </tr>\n",
       "    <tr>\n",
       "      <th>Atalanta BC</th>\n",
       "      <td>12.500000</td>\n",
       "      <td>2.907670</td>\n",
       "      <td>8</td>\n",
       "      <td>16</td>\n",
       "      <td>1.666667</td>\n",
       "      <td>2.188122</td>\n",
       "      <td>0</td>\n",
       "      <td>8</td>\n",
       "      <td>1.166667</td>\n",
       "      <td>1.850471</td>\n",
       "      <td>0</td>\n",
       "      <td>5</td>\n",
       "    </tr>\n",
       "    <tr>\n",
       "      <th>Athletic Bilbao</th>\n",
       "      <td>9.000000</td>\n",
       "      <td>4.082483</td>\n",
       "      <td>3</td>\n",
       "      <td>12</td>\n",
       "      <td>1.250000</td>\n",
       "      <td>1.500000</td>\n",
       "      <td>0</td>\n",
       "      <td>3</td>\n",
       "      <td>0.250000</td>\n",
       "      <td>0.500000</td>\n",
       "      <td>0</td>\n",
       "      <td>1</td>\n",
       "    </tr>\n",
       "  </tbody>\n",
       "</table>\n",
       "</div>"
      ],
      "text/plain": [
       "                   Matches                         Goals                      \\\n",
       "                      mean       std amin amax      mean       std amin amax   \n",
       "Club                                                                           \n",
       "AC Milan         13.153846  3.782551    6   20  1.461538  1.613246    0    5   \n",
       "ACF Fiorentina   11.000000  2.828427    9   15  3.400000  4.979960    0   12   \n",
       "AS Monaco        19.500000  2.777460   16   24  3.625000  2.973094    0    8   \n",
       "AS Roma          13.555556  6.247222    0   18  2.666667  2.645751    0    8   \n",
       "Ajax Amsterdam   15.833333  1.169045   14   17  4.333333  5.006662    0   14   \n",
       "Al-Rayyan SC      3.000000       NaN    3    3  1.000000       NaN    1    1   \n",
       "Arsenal FC        9.533333  2.614975    5   15  1.533333  2.199567    0    7   \n",
       "Aston Villa       9.090909  2.071451    5   12  0.909091  1.044466    0    3   \n",
       "Atalanta BC      12.500000  2.907670    8   16  1.666667  2.188122    0    8   \n",
       "Athletic Bilbao   9.000000  4.082483    3   12  1.250000  1.500000    0    3   \n",
       "\n",
       "                  Assists                      \n",
       "                     mean       std amin amax  \n",
       "Club                                           \n",
       "AC Milan         1.615385  1.980676    0    7  \n",
       "ACF Fiorentina   1.200000  1.303840    0    3  \n",
       "AS Monaco        2.125000  2.232071    0    6  \n",
       "AS Roma          1.222222  1.301708    0    3  \n",
       "Ajax Amsterdam   3.166667  2.041241    1    6  \n",
       "Al-Rayyan SC     1.000000       NaN    1    1  \n",
       "Arsenal FC       0.800000  1.014185    0    3  \n",
       "Aston Villa      0.909091  0.831209    0    2  \n",
       "Atalanta BC      1.166667  1.850471    0    5  \n",
       "Athletic Bilbao  0.250000  0.500000    0    1  "
      ]
     },
     "execution_count": 32,
     "metadata": {},
     "output_type": "execute_result"
    }
   ],
   "source": [
    "columns_show=[\"Matches\",\"Goals\",\"Assists\"]\n",
    "df.groupby([\"Club\"])[columns_show].agg([np.mean,np.std,np.min,np.max]).head(10)"
   ]
  },
  {
   "cell_type": "code",
   "execution_count": 33,
   "id": "204b37b6",
   "metadata": {},
   "outputs": [
    {
     "name": "stdout",
     "output_type": "stream",
     "text": [
      "     Point                Name            Position  Age  Market_Value  \\\n",
      "0        0       Kylian Mbappé      Centre-Forward   22         144.0   \n",
      "1        1      Erling Haaland      Centre-Forward   21         135.0   \n",
      "4        4       Mohamed Salah        Right Winger   29          90.0   \n",
      "58      58          Leroy Sané         Left Winger   25          54.0   \n",
      "63      63  Robert Lewandowski      Centre-Forward   33          54.0   \n",
      "96      96  Christopher Nkunku  Attacking Midfield   24          42.3   \n",
      "238    238       Thomas Müller      Second Striker   32          27.0   \n",
      "263    263    Sébastien Haller      Centre-Forward   27          24.3   \n",
      "333    333       Karim Benzema      Centre-Forward   33          22.5   \n",
      "387    387      Julián Álvarez      Centre-Forward   21          18.0   \n",
      "394    394       Karim Adeyemi      Centre-Forward   19          18.0   \n",
      "\n",
      "           Country                       Club  Matches  Goals  Own Goals  \\\n",
      "0           France        Paris Saint-Germain       16      7          0   \n",
      "1           Norway          Borussia Dortmund       10     13          0   \n",
      "4            Egypt               Liverpool FC       15     15          0   \n",
      "58         Germany              Bayern Munich       18      8          0   \n",
      "63          Poland              Bayern Munich       17     23          0   \n",
      "96          France                 RB Leipzig       17     11          0   \n",
      "238        Germany              Bayern Munich       18      6          0   \n",
      "263  Cote d'Ivoire             Ajax Amsterdam       17     14          0   \n",
      "333         France                Real Madrid       15     14          0   \n",
      "387      Argentina  Club Atlético River Plate       16     15          0   \n",
      "394        Germany          Red Bull Salzburg       22     15          0   \n",
      "\n",
      "     Assists  Yellow Cards  Second Yellow Cards  Red Cards  \\\n",
      "0         11             3                    0          0   \n",
      "1          4             1                    0          0   \n",
      "4          6             1                    0          0   \n",
      "58        10             2                    0          0   \n",
      "63         2             0                    0          0   \n",
      "96         7             0                    0          0   \n",
      "238       12             0                    0          0   \n",
      "263        5             2                    0          0   \n",
      "333        8             0                    0          0   \n",
      "387        6             1                    0          0   \n",
      "394        2             3                    0          0   \n",
      "\n",
      "     Number Of Substitute In  Number Of Substitute Out  G\\A  \n",
      "0                          0                         8   18  \n",
      "1                          0                         1   17  \n",
      "4                          0                         3   21  \n",
      "58                         3                        11   18  \n",
      "63                         0                         5   25  \n",
      "96                         1                         7   18  \n",
      "238                        1                        11   18  \n",
      "263                        0                         7   19  \n",
      "333                        0                         4   22  \n",
      "387                        3                         4   21  \n",
      "394                        2                        20   17  \n"
     ]
    }
   ],
   "source": [
    "df[\"G\\A\"]=(\n",
    "df[\"Goals\"]\n",
    "+df[\"Assists\"])\n",
    "def best_players(df):\n",
    "    print(df[df[\"G\\A\"] > 16])\n",
    "best_players(df)"
   ]
  },
  {
   "cell_type": "code",
   "execution_count": 34,
   "id": "3871790d",
   "metadata": {},
   "outputs": [
    {
     "data": {
      "text/plain": [
       "Centre-Back           87\n",
       "Central Midfield      74\n",
       "Centre-Forward        70\n",
       "Right Winger          48\n",
       "Left Winger           46\n",
       "Attacking Midfield    41\n",
       "Defensive Midfield    41\n",
       "Right-Back            30\n",
       "Left-Back             23\n",
       "Goalkeeper            19\n",
       "Second Striker         8\n",
       "Left Midfield          8\n",
       "Right Midfield         5\n",
       "Name: Position, dtype: int64"
      ]
     },
     "execution_count": 34,
     "metadata": {},
     "output_type": "execute_result"
    }
   ],
   "source": [
    "df[\"Position\"].value_counts()"
   ]
  },
  {
   "cell_type": "code",
   "execution_count": 35,
   "id": "5f708f98",
   "metadata": {},
   "outputs": [
    {
     "data": {
      "text/plain": [
       "array([22, 21, 28, 26, 29, 30, 24, 27, 18, 34, 23, 25, 20, 19, 33, 36, 31,\n",
       "       32, 17, 16], dtype=int64)"
      ]
     },
     "execution_count": 35,
     "metadata": {},
     "output_type": "execute_result"
    }
   ],
   "source": [
    "df[\"Age\"].unique()"
   ]
  },
  {
   "cell_type": "code",
   "execution_count": 36,
   "id": "770f6c5c",
   "metadata": {},
   "outputs": [
    {
     "name": "stdout",
     "output_type": "stream",
     "text": [
      "            Point         Age  Market_Value     Matches       Goals  \\\n",
      "count  500.000000  500.000000    500.000000  500.000000  500.000000   \n",
      "mean   249.500000   24.968000     31.537800   12.396000    2.160000   \n",
      "std    144.481833    3.165916     17.577697    4.342453    2.880102   \n",
      "min      0.000000   16.000000     16.200000    0.000000    0.000000   \n",
      "25%    124.750000   23.000000     19.800000   10.000000    0.000000   \n",
      "50%    249.500000   25.000000     25.200000   13.000000    1.000000   \n",
      "75%    374.250000   27.000000     36.000000   16.000000    3.000000   \n",
      "max    499.000000   36.000000    144.000000   24.000000   23.000000   \n",
      "\n",
      "        Own Goals    Assists  Yellow Cards  Second Yellow Cards   Red Cards  \\\n",
      "count  500.000000  500.00000    500.000000           500.000000  500.000000   \n",
      "mean     0.030000    1.51200      1.592000             0.036000    0.046000   \n",
      "std      0.170758    1.85276      1.445585             0.186477    0.209695   \n",
      "min      0.000000    0.00000      0.000000             0.000000    0.000000   \n",
      "25%      0.000000    0.00000      0.000000             0.000000    0.000000   \n",
      "50%      0.000000    1.00000      1.000000             0.000000    0.000000   \n",
      "75%      0.000000    2.00000      2.000000             0.000000    0.000000   \n",
      "max      1.000000   12.00000      7.000000             1.000000    1.000000   \n",
      "\n",
      "       Number Of Substitute In  Number Of Substitute Out         G\\A  \n",
      "count               500.000000                500.000000  500.000000  \n",
      "mean                  2.394000                  3.744000    3.672000  \n",
      "std                   2.517825                  3.293046    4.094624  \n",
      "min                   0.000000                  0.000000    0.000000  \n",
      "25%                   0.000000                  1.000000    1.000000  \n",
      "50%                   2.000000                  3.000000    3.000000  \n",
      "75%                   3.250000                  6.000000    5.000000  \n",
      "max                  13.000000                 20.000000   25.000000  \n",
      "----------------------------------------------------------------------\n",
      "Top 5 player 0     Kylian Mbappé\n",
      "1    Erling Haaland\n",
      "2        Harry Kane\n",
      "3     Jack Grealish\n",
      "4     Mohamed Salah\n",
      "Name: Name, dtype: object\n",
      "----------------------------------------\n",
      "Means of goals: 2.16\n",
      "Dataset variables: 500\n",
      "All assists: 756\n",
      "----------------------------------------\n",
      "Point                         int64\n",
      "Name                         object\n",
      "Position                     object\n",
      "Age                           int64\n",
      "Market_Value                float64\n",
      "Country                      object\n",
      "Club                         object\n",
      "Matches                       int64\n",
      "Goals                         int64\n",
      "Own Goals                     int64\n",
      "Assists                       int64\n",
      "Yellow Cards                  int64\n",
      "Second Yellow Cards           int64\n",
      "Red Cards                     int64\n",
      "Number Of Substitute In       int64\n",
      "Number Of Substitute Out      int64\n",
      "G\\A                           int64\n",
      "dtype: object\n",
      "-------------------------------------------------------------------------\n",
      "Correlation of data                              Point       Age  Market_Value   Matches  \\\n",
      "Point                     1.000000 -0.031027     -0.840651 -0.123702   \n",
      "Age                      -0.031027  1.000000      0.047794 -0.029396   \n",
      "Market_Value             -0.840651  0.047794      1.000000  0.112774   \n",
      "Matches                  -0.123702 -0.029396      0.112774  1.000000   \n",
      "Goals                    -0.172072  0.056607      0.213461  0.368270   \n",
      "Own Goals                 0.020754  0.038849     -0.032827  0.037999   \n",
      "Assists                  -0.165223 -0.041616      0.228183  0.407905   \n",
      "Yellow Cards             -0.036231 -0.059783      0.003802  0.409519   \n",
      "Second Yellow Cards      -0.063670 -0.055751      0.041953 -0.000317   \n",
      "Red Cards                -0.035685 -0.012872      0.001485  0.019569   \n",
      "Number Of Substitute In   0.055554 -0.135682     -0.085958  0.224711   \n",
      "Number Of Substitute Out -0.011886 -0.110354      0.000946  0.477138   \n",
      "G\\A                      -0.195794  0.020986      0.253395  0.443608   \n",
      "\n",
      "                             Goals  Own Goals   Assists  Yellow Cards  \\\n",
      "Point                    -0.172072   0.020754 -0.165223     -0.036231   \n",
      "Age                       0.056607   0.038849 -0.041616     -0.059783   \n",
      "Market_Value              0.213461  -0.032827  0.228183      0.003802   \n",
      "Matches                   0.368270   0.037999  0.407905      0.409519   \n",
      "Goals                     1.000000  -0.091276  0.472086      0.024856   \n",
      "Own Goals                -0.091276   1.000000 -0.092988      0.057804   \n",
      "Assists                   0.472086  -0.092988  1.000000      0.133521   \n",
      "Yellow Cards              0.024856   0.057804  0.133521      1.000000   \n",
      "Second Yellow Cards      -0.055523  -0.033985 -0.041855      0.076899   \n",
      "Red Cards                -0.022166  -0.038617  0.001155      0.088482   \n",
      "Number Of Substitute In   0.084144  -0.041531  0.083829     -0.065864   \n",
      "Number Of Substitute Out  0.437487  -0.096794  0.452794      0.133355   \n",
      "G\\A                       0.916999  -0.106278  0.784545      0.077900   \n",
      "\n",
      "                          Second Yellow Cards  Red Cards  \\\n",
      "Point                               -0.063670  -0.035685   \n",
      "Age                                 -0.055751  -0.012872   \n",
      "Market_Value                         0.041953   0.001485   \n",
      "Matches                             -0.000317   0.019569   \n",
      "Goals                               -0.055523  -0.022166   \n",
      "Own Goals                           -0.033985  -0.038617   \n",
      "Assists                             -0.041855   0.001155   \n",
      "Yellow Cards                         0.076899   0.088482   \n",
      "Second Yellow Cards                  1.000000   0.060064   \n",
      "Red Cards                            0.060064   1.000000   \n",
      "Number Of Substitute In             -0.077221  -0.030601   \n",
      "Number Of Substitute Out            -0.066548  -0.006129   \n",
      "G\\A                                 -0.057993  -0.015068   \n",
      "\n",
      "                          Number Of Substitute In  Number Of Substitute Out  \\\n",
      "Point                                    0.055554                 -0.011886   \n",
      "Age                                     -0.135682                 -0.110354   \n",
      "Market_Value                            -0.085958                  0.000946   \n",
      "Matches                                  0.224711                  0.477138   \n",
      "Goals                                    0.084144                  0.437487   \n",
      "Own Goals                               -0.041531                 -0.096794   \n",
      "Assists                                  0.083829                  0.452794   \n",
      "Yellow Cards                            -0.065864                  0.133355   \n",
      "Second Yellow Cards                     -0.077221                 -0.066548   \n",
      "Red Cards                               -0.030601                 -0.006129   \n",
      "Number Of Substitute In                  1.000000                  0.247122   \n",
      "Number Of Substitute Out                 0.247122                  1.000000   \n",
      "G\\A                                      0.097117                  0.512605   \n",
      "\n",
      "                               G\\A  \n",
      "Point                    -0.195794  \n",
      "Age                       0.020986  \n",
      "Market_Value              0.253395  \n",
      "Matches                   0.443608  \n",
      "Goals                     0.916999  \n",
      "Own Goals                -0.106278  \n",
      "Assists                   0.784545  \n",
      "Yellow Cards              0.077900  \n",
      "Second Yellow Cards      -0.057993  \n",
      "Red Cards                -0.015068  \n",
      "Number Of Substitute In   0.097117  \n",
      "Number Of Substitute Out  0.512605  \n",
      "G\\A                       1.000000  \n",
      "---------------------------------------------------------------------------------\n"
     ]
    }
   ],
   "source": [
    "def data_inv(df):\n",
    "    print(df.describe())\n",
    "    print(\"-\"*70)\n",
    "    print(\"Top 5 player\",df[\"Name\"][:5])\n",
    "    print(\"-\"*40)\n",
    "    print(\"Means of goals:\", df[\"Goals\"].mean())\n",
    "    print(\"Dataset variables:\",df.shape[0])\n",
    "    print(\"All assists:\",df[\"Assists\"].sum())\n",
    "    print(\"-\"*40)\n",
    "    print(df.dtypes)\n",
    "    print(\"-\"*73)\n",
    "    print(\"Correlation of data\",df.corr())\n",
    "    print(\"-\"*81)\n",
    "data_inv(df)"
   ]
  },
  {
   "cell_type": "code",
   "execution_count": 37,
   "id": "5a15525c",
   "metadata": {},
   "outputs": [
    {
     "data": {
      "text/plain": [
       "Point                       0\n",
       "Name                        0\n",
       "Position                    0\n",
       "Age                         0\n",
       "Market_Value                0\n",
       "Country                     0\n",
       "Club                        0\n",
       "Matches                     0\n",
       "Goals                       0\n",
       "Own Goals                   0\n",
       "Assists                     0\n",
       "Yellow Cards                0\n",
       "Second Yellow Cards         0\n",
       "Red Cards                   0\n",
       "Number Of Substitute In     0\n",
       "Number Of Substitute Out    0\n",
       "G\\A                         0\n",
       "dtype: int64"
      ]
     },
     "execution_count": 37,
     "metadata": {},
     "output_type": "execute_result"
    }
   ],
   "source": [
    "df.isnull().sum()"
   ]
  },
  {
   "cell_type": "code",
   "execution_count": 38,
   "id": "d15a0f37",
   "metadata": {},
   "outputs": [
    {
     "data": {
      "image/png": "[encoded data removed]",
      "text/plain": [
       "<Figure size 864x576 with 1 Axes>"
      ]
     },
     "metadata": {},
     "output_type": "display_data"
    }
   ],
   "source": [
    "my_colors = ['g', 'b']*5 \n",
    "my_colors = [(0.5,0.4,0.5), (0.75, 0.75, 0.25)]*5 \n",
    "\n",
    "\n",
    "plt.figure(figsize=(12,8))\n",
    "df[\"Country\"].value_counts().plot(kind=\"bar\",color=my_colors,edgecolor=\"red\")\n",
    "plt.grid()\n",
    "plt.show()"
   ]
  },
  {
   "cell_type": "code",
   "execution_count": 39,
   "id": "9814f420",
   "metadata": {},
   "outputs": [
    {
     "data": {
      "image/png": "[encoded data removed]",
      "text/plain": [
       "<Figure size 576x720 with 1 Axes>"
      ]
     },
     "metadata": {},
     "output_type": "display_data"
    }
   ],
   "source": [
    "explode=(0,0,0,0,0,0,0.7,0.5)\n",
    "wp = { 'linewidth' : 1, 'edgecolor' : \"green\" }\n",
    "pie, ax = plt.subplots(figsize=[8,10])\n",
    "labels = df[\"Yellow Cards\"].value_counts().keys()\n",
    "plt.pie(x=df[\"Yellow Cards\"].value_counts(), autopct=\"%.1f%%\", labels=labels, pctdistance=0.5,explode=explode,shadow=True,\n",
    "       wedgeprops = wp)\n",
    "plt.legend()\n",
    "plt.title(\"Proportion of players by Yellow Cards\", fontsize=14);"
   ]
  },
  {
   "cell_type": "code",
   "execution_count": 40,
   "id": "bd611ab5",
   "metadata": {},
   "outputs": [
    {
     "data": {
      "image/png": "[encoded data removed]",
      "text/plain": [
       "<Figure size 720x360 with 1 Axes>"
      ]
     },
     "metadata": {},
     "output_type": "display_data"
    }
   ],
   "source": [
    "sns.set_style(\"white\")\n",
    "sns.set_style(\"ticks\")\n",
    "plt.figure(figsize=(10, 5))\n",
    "sns.boxplot(data=df, x=\"Age\", color=\"lightblue\", width=0.2);\n",
    "plt.title(\"Boxplot of the age of players\")\n",
    "sns.despine(left=True);"
   ]
  },
  {
   "cell_type": "code",
   "execution_count": 41,
   "id": "c343e3f6",
   "metadata": {},
   "outputs": [
    {
     "data": {
      "text/plain": [
       "(     Point           Name        Position  Age  Market_Value Country  \\\n",
       " 333    333  Karim Benzema  Centre-Forward   33          22.5  France   \n",
       " \n",
       "             Club  Matches  Goals  Own Goals  Assists  Yellow Cards  \\\n",
       " 333  Real Madrid       15     14          0        8             0   \n",
       " \n",
       "      Second Yellow Cards  Red Cards  Number Of Substitute In  \\\n",
       " 333                    0          0                        0   \n",
       " \n",
       "      Number Of Substitute Out  G\\A  \n",
       " 333                         4   22  ,\n",
       "     Point                Name        Position  Age  Market_Value Country  \\\n",
       " 63     63  Robert Lewandowski  Centre-Forward   33          54.0  Poland   \n",
       " \n",
       "              Club  Matches  Goals  Own Goals  Assists  Yellow Cards  \\\n",
       " 63  Bayern Munich       17     23          0        2             0   \n",
       " \n",
       "     Second Yellow Cards  Red Cards  Number Of Substitute In  \\\n",
       " 63                    0          0                        0   \n",
       " \n",
       "     Number Of Substitute Out  G\\A  \n",
       " 63                         5   25  )"
      ]
     },
     "execution_count": 41,
     "metadata": {},
     "output_type": "execute_result"
    }
   ],
   "source": [
    "df[df[\"Name\"] == \"Karim Benzema\"],df[df[\"Name\"] == \"Robert Lewandowski\"]"
   ]
  },
  {
   "cell_type": "code",
   "execution_count": 42,
   "id": "33b08811",
   "metadata": {
    "scrolled": true
   },
   "outputs": [
    {
     "data": {
      "application/vnd.plotly.v1+json": {
       "config": {
        "plotlyServerURL": "https://plot.ly"
       },
       "data": [
        {
         "fill": "toself",
         "name": "R.Lewandowski",
         "r": [
          23,
          2,
          25,
          17,
          54
         ],
         "theta": [
          "Goals",
          "Assists",
          "G\\A",
          "Matches",
          "Market_Value"
         ],
         "type": "scatterpolar"
        },
        {
         "fill": "toself",
         "name": "K.Benzema",
         "r": [
          14,
          8,
          22,
          15,
          22.5
         ],
         "theta": [
          "Goals",
          "Assists",
          "G\\A",
          "Matches",
          "Market_Value"
         ],
         "type": "scatterpolar"
        }
       ],
       "layout": {
        "autosize": false,
        "height": 500,
        "template": {
         "data": {
          "bar": [
           {
            "error_x": {
             "color": "#2a3f5f"
            },
            "error_y": {
             "color": "#2a3f5f"
            },
            "marker": {
             "line": {
              "color": "#E5ECF6",
              "width": 0.5
             },
             "pattern": {
              "fillmode": "overlay",
              "size": 10,
              "solidity": 0.2
             }
            },
            "type": "bar"
           }
          ],
          "barpolar": [
           {
            "marker": {
             "line": {
              "color": "#E5ECF6",
              "width": 0.5
             },
             "pattern": {
              "fillmode": "overlay",
              "size": 10,
              "solidity": 0.2
             }
            },
            "type": "barpolar"
           }
          ],
          "carpet": [
           {
            "aaxis": {
             "endlinecolor": "#2a3f5f",
             "gridcolor": "white",
             "linecolor": "white",
             "minorgridcolor": "white",
             "startlinecolor": "#2a3f5f"
            },
            "baxis": {
             "endlinecolor": "#2a3f5f",
             "gridcolor": "white",
             "linecolor": "white",
             "minorgridcolor": "white",
             "startlinecolor": "#2a3f5f"
            },
            "type": "carpet"
           }
          ],
          "choropleth": [
           {
            "colorbar": {
             "outlinewidth": 0,
             "ticks": ""
            },
            "type": "choropleth"
           }
          ],
          "contour": [
           {
            "colorbar": {
             "outlinewidth": 0,
             "ticks": ""
            },
            "colorscale": [
             [
              0,
              "#0d0887"
             ],
             [
              0.1111111111111111,
              "#46039f"
             ],
             [
              0.2222222222222222,
              "#7201a8"
             ],
             [
              0.3333333333333333,
              "#9c179e"
             ],
             [
              0.4444444444444444,
              "#bd3786"
             ],
             [
              0.5555555555555556,
              "#d8576b"
             ],
             [
              0.6666666666666666,
              "#ed7953"
             ],
             [
              0.7777777777777778,
              "#fb9f3a"
             ],
             [
              0.8888888888888888,
              "#fdca26"
             ],
             [
              1,
              "#f0f921"
             ]
            ],
            "type": "contour"
           }
          ],
          "contourcarpet": [
           {
            "colorbar": {
             "outlinewidth": 0,
             "ticks": ""
            },
            "type": "contourcarpet"
           }
          ],
          "heatmap": [
           {
            "colorbar": {
             "outlinewidth": 0,
             "ticks": ""
            },
            "colorscale": [
             [
              0,
              "#0d0887"
             ],
             [
              0.1111111111111111,
              "#46039f"
             ],
             [
              0.2222222222222222,
              "#7201a8"
             ],
             [
              0.3333333333333333,
              "#9c179e"
             ],
             [
              0.4444444444444444,
              "#bd3786"
             ],
             [
              0.5555555555555556,
              "#d8576b"
             ],
             [
              0.6666666666666666,
              "#ed7953"
             ],
             [
              0.7777777777777778,
              "#fb9f3a"
             ],
             [
              0.8888888888888888,
              "#fdca26"
             ],
             [
              1,
              "#f0f921"
             ]
            ],
            "type": "heatmap"
           }
          ],
          "heatmapgl": [
           {
            "colorbar": {
             "outlinewidth": 0,
             "ticks": ""
            },
            "colorscale": [
             [
              0,
              "#0d0887"
             ],
             [
              0.1111111111111111,
              "#46039f"
             ],
             [
              0.2222222222222222,
              "#7201a8"
             ],
             [
              0.3333333333333333,
              "#9c179e"
             ],
             [
              0.4444444444444444,
              "#bd3786"
             ],
             [
              0.5555555555555556,
              "#d8576b"
             ],
             [
              0.6666666666666666,
              "#ed7953"
             ],
             [
              0.7777777777777778,
              "#fb9f3a"
             ],
             [
              0.8888888888888888,
              "#fdca26"
             ],
             [
              1,
              "#f0f921"
             ]
            ],
            "type": "heatmapgl"
           }
          ],
          "histogram": [
           {
            "marker": {
             "pattern": {
              "fillmode": "overlay",
              "size": 10,
              "solidity": 0.2
             }
            },
            "type": "histogram"
           }
          ],
          "histogram2d": [
           {
            "colorbar": {
             "outlinewidth": 0,
             "ticks": ""
            },
            "colorscale": [
             [
              0,
              "#0d0887"
             ],
             [
              0.1111111111111111,
              "#46039f"
             ],
             [
              0.2222222222222222,
              "#7201a8"
             ],
             [
              0.3333333333333333,
              "#9c179e"
             ],
             [
              0.4444444444444444,
              "#bd3786"
             ],
             [
              0.5555555555555556,
              "#d8576b"
             ],
             [
              0.6666666666666666,
              "#ed7953"
             ],
             [
              0.7777777777777778,
              "#fb9f3a"
             ],
             [
              0.8888888888888888,
              "#fdca26"
             ],
             [
              1,
              "#f0f921"
             ]
            ],
            "type": "histogram2d"
           }
          ],
          "histogram2dcontour": [
           {
            "colorbar": {
             "outlinewidth": 0,
             "ticks": ""
            },
            "colorscale": [
             [
              0,
              "#0d0887"
             ],
             [
              0.1111111111111111,
              "#46039f"
             ],
             [
              0.2222222222222222,
              "#7201a8"
             ],
             [
              0.3333333333333333,
              "#9c179e"
             ],
             [
              0.4444444444444444,
              "#bd3786"
             ],
             [
              0.5555555555555556,
              "#d8576b"
             ],
             [
              0.6666666666666666,
              "#ed7953"
             ],
             [
              0.7777777777777778,
              "#fb9f3a"
             ],
             [
              0.8888888888888888,
              "#fdca26"
             ],
             [
              1,
              "#f0f921"
             ]
            ],
            "type": "histogram2dcontour"
           }
          ],
          "mesh3d": [
           {
            "colorbar": {
             "outlinewidth": 0,
             "ticks": ""
            },
            "type": "mesh3d"
           }
          ],
          "parcoords": [
           {
            "line": {
             "colorbar": {
              "outlinewidth": 0,
              "ticks": ""
             }
            },
            "type": "parcoords"
           }
          ],
          "pie": [
           {
            "automargin": true,
            "type": "pie"
           }
          ],
          "scatter": [
           {
            "fillpattern": {
             "fillmode": "overlay",
             "size": 10,
             "solidity": 0.2
            },
            "type": "scatter"
           }
          ],
          "scatter3d": [
           {
            "line": {
             "colorbar": {
              "outlinewidth": 0,
              "ticks": ""
             }
            },
            "marker": {
             "colorbar": {
              "outlinewidth": 0,
              "ticks": ""
             }
            },
            "type": "scatter3d"
           }
          ],
          "scattercarpet": [
           {
            "marker": {
             "colorbar": {
              "outlinewidth": 0,
              "ticks": ""
             }
            },
            "type": "scattercarpet"
           }
          ],
          "scattergeo": [
           {
            "marker": {
             "colorbar": {
              "outlinewidth": 0,
              "ticks": ""
             }
            },
            "type": "scattergeo"
           }
          ],
          "scattergl": [
           {
            "marker": {
             "colorbar": {
              "outlinewidth": 0,
              "ticks": ""
             }
            },
            "type": "scattergl"
           }
          ],
          "scattermapbox": [
           {
            "marker": {
             "colorbar": {
              "outlinewidth": 0,
              "ticks": ""
             }
            },
            "type": "scattermapbox"
           }
          ],
          "scatterpolar": [
           {
            "marker": {
             "colorbar": {
              "outlinewidth": 0,
              "ticks": ""
             }
            },
            "type": "scatterpolar"
           }
          ],
          "scatterpolargl": [
           {
            "marker": {
             "colorbar": {
              "outlinewidth": 0,
              "ticks": ""
             }
            },
            "type": "scatterpolargl"
           }
          ],
          "scatterternary": [
           {
            "marker": {
             "colorbar": {
              "outlinewidth": 0,
              "ticks": ""
             }
            },
            "type": "scatterternary"
           }
          ],
          "surface": [
           {
            "colorbar": {
             "outlinewidth": 0,
             "ticks": ""
            },
            "colorscale": [
             [
              0,
              "#0d0887"
             ],
             [
              0.1111111111111111,
              "#46039f"
             ],
             [
              0.2222222222222222,
              "#7201a8"
             ],
             [
              0.3333333333333333,
              "#9c179e"
             ],
             [
              0.4444444444444444,
              "#bd3786"
             ],
             [
              0.5555555555555556,
              "#d8576b"
             ],
             [
              0.6666666666666666,
              "#ed7953"
             ],
             [
              0.7777777777777778,
              "#fb9f3a"
             ],
             [
              0.8888888888888888,
              "#fdca26"
             ],
             [
              1,
              "#f0f921"
             ]
            ],
            "type": "surface"
           }
          ],
          "table": [
           {
            "cells": {
             "fill": {
              "color": "#EBF0F8"
             },
             "line": {
              "color": "white"
             }
            },
            "header": {
             "fill": {
              "color": "#C8D4E3"
             },
             "line": {
              "color": "white"
             }
            },
            "type": "table"
           }
          ]
         },
         "layout": {
          "annotationdefaults": {
           "arrowcolor": "#2a3f5f",
           "arrowhead": 0,
           "arrowwidth": 1
          },
          "autotypenumbers": "strict",
          "coloraxis": {
           "colorbar": {
            "outlinewidth": 0,
            "ticks": ""
           }
          },
          "colorscale": {
           "diverging": [
            [
             0,
             "#8e0152"
            ],
            [
             0.1,
             "#c51b7d"
            ],
            [
             0.2,
             "#de77ae"
            ],
            [
             0.3,
             "#f1b6da"
            ],
            [
             0.4,
             "#fde0ef"
            ],
            [
             0.5,
             "#f7f7f7"
            ],
            [
             0.6,
             "#e6f5d0"
            ],
            [
             0.7,
             "#b8e186"
            ],
            [
             0.8,
             "#7fbc41"
            ],
            [
             0.9,
             "#4d9221"
            ],
            [
             1,
             "#276419"
            ]
           ],
           "sequential": [
            [
             0,
             "#0d0887"
            ],
            [
             0.1111111111111111,
             "#46039f"
            ],
            [
             0.2222222222222222,
             "#7201a8"
            ],
            [
             0.3333333333333333,
             "#9c179e"
            ],
            [
             0.4444444444444444,
             "#bd3786"
            ],
            [
             0.5555555555555556,
             "#d8576b"
            ],
            [
             0.6666666666666666,
             "#ed7953"
            ],
            [
             0.7777777777777778,
             "#fb9f3a"
            ],
            [
             0.8888888888888888,
             "#fdca26"
            ],
            [
             1,
             "#f0f921"
            ]
           ],
           "sequentialminus": [
            [
             0,
             "#0d0887"
            ],
            [
             0.1111111111111111,
             "#46039f"
            ],
            [
             0.2222222222222222,
             "#7201a8"
            ],
            [
             0.3333333333333333,
             "#9c179e"
            ],
            [
             0.4444444444444444,
             "#bd3786"
            ],
            [
             0.5555555555555556,
             "#d8576b"
            ],
            [
             0.6666666666666666,
             "#ed7953"
            ],
            [
             0.7777777777777778,
             "#fb9f3a"
            ],
            [
             0.8888888888888888,
             "#fdca26"
            ],
            [
             1,
             "#f0f921"
            ]
           ]
          },
          "colorway": [
           "#636efa",
           "#EF553B",
           "#00cc96",
           "#ab63fa",
           "#FFA15A",
           "#19d3f3",
           "#FF6692",
           "#B6E880",
           "#FF97FF",
           "#FECB52"
          ],
          "font": {
           "color": "#2a3f5f"
          },
          "geo": {
           "bgcolor": "white",
           "lakecolor": "white",
           "landcolor": "#E5ECF6",
           "showlakes": true,
           "showland": true,
           "subunitcolor": "white"
          },
          "hoverlabel": {
           "align": "left"
          },
          "hovermode": "closest",
          "mapbox": {
           "style": "light"
          },
          "paper_bgcolor": "white",
          "plot_bgcolor": "#E5ECF6",
          "polar": {
           "angularaxis": {
            "gridcolor": "white",
            "linecolor": "white",
            "ticks": ""
           },
           "bgcolor": "#E5ECF6",
           "radialaxis": {
            "gridcolor": "white",
            "linecolor": "white",
            "ticks": ""
           }
          },
          "scene": {
           "xaxis": {
            "backgroundcolor": "#E5ECF6",
            "gridcolor": "white",
            "gridwidth": 2,
            "linecolor": "white",
            "showbackground": true,
            "ticks": "",
            "zerolinecolor": "white"
           },
           "yaxis": {
            "backgroundcolor": "#E5ECF6",
            "gridcolor": "white",
            "gridwidth": 2,
            "linecolor": "white",
            "showbackground": true,
            "ticks": "",
            "zerolinecolor": "white"
           },
           "zaxis": {
            "backgroundcolor": "#E5ECF6",
            "gridcolor": "white",
            "gridwidth": 2,
            "linecolor": "white",
            "showbackground": true,
            "ticks": "",
            "zerolinecolor": "white"
           }
          },
          "shapedefaults": {
           "line": {
            "color": "#2a3f5f"
           }
          },
          "ternary": {
           "aaxis": {
            "gridcolor": "white",
            "linecolor": "white",
            "ticks": ""
           },
           "baxis": {
            "gridcolor": "white",
            "linecolor": "white",
            "ticks": ""
           },
           "bgcolor": "#E5ECF6",
           "caxis": {
            "gridcolor": "white",
            "linecolor": "white",
            "ticks": ""
           }
          },
          "title": {
           "x": 0.05
          },
          "xaxis": {
           "automargin": true,
           "gridcolor": "white",
           "linecolor": "white",
           "ticks": "",
           "title": {
            "standoff": 15
           },
           "zerolinecolor": "white",
           "zerolinewidth": 2
          },
          "yaxis": {
           "automargin": true,
           "gridcolor": "white",
           "linecolor": "white",
           "ticks": "",
           "title": {
            "standoff": 15
           },
           "zerolinecolor": "white",
           "zerolinewidth": 2
          }
         }
        },
        "width": 500
       }
      },
      "text/html": [
       "<div>                            <div id=\"865a3790-4936-4501-89c8-72027fd004d4\" class=\"plotly-graph-div\" style=\"height:500px; width:500px;\"></div>            <script type=\"text/javascript\">                require([\"plotly\"], function(Plotly) {                    window.PLOTLYENV=window.PLOTLYENV || {};                                    if (document.getElementById(\"865a3790-4936-4501-89c8-72027fd004d4\")) {                    Plotly.newPlot(                        \"865a3790-4936-4501-89c8-72027fd004d4\",                        [{\"fill\":\"toself\",\"name\":\"R.Lewandowski\",\"r\":[23,2,25,17,54.0],\"theta\":[\"Goals\",\"Assists\",\"G\\\\A\",\"Matches\",\"Market_Value\"],\"type\":\"scatterpolar\"},{\"fill\":\"toself\",\"name\":\"K.Benzema\",\"r\":[14,8,22,15,22.5],\"theta\":[\"Goals\",\"Assists\",\"G\\\\A\",\"Matches\",\"Market_Value\"],\"type\":\"scatterpolar\"}],                        {\"template\":{\"data\":{\"histogram2dcontour\":[{\"type\":\"histogram2dcontour\",\"colorbar\":{\"outlinewidth\":0,\"ticks\":\"\"},\"colorscale\":[[0.0,\"#0d0887\"],[0.1111111111111111,\"#46039f\"],[0.2222222222222222,\"#7201a8\"],[0.3333333333333333,\"#9c179e\"],[0.4444444444444444,\"#bd3786\"],[0.5555555555555556,\"#d8576b\"],[0.6666666666666666,\"#ed7953\"],[0.7777777777777778,\"#fb9f3a\"],[0.8888888888888888,\"#fdca26\"],[1.0,\"#f0f921\"]]}],\"choropleth\":[{\"type\":\"choropleth\",\"colorbar\":{\"outlinewidth\":0,\"ticks\":\"\"}}],\"histogram2d\":[{\"type\":\"histogram2d\",\"colorbar\":{\"outlinewidth\":0,\"ticks\":\"\"},\"colorscale\":[[0.0,\"#0d0887\"],[0.1111111111111111,\"#46039f\"],[0.2222222222222222,\"#7201a8\"],[0.3333333333333333,\"#9c179e\"],[0.4444444444444444,\"#bd3786\"],[0.5555555555555556,\"#d8576b\"],[0.6666666666666666,\"#ed7953\"],[0.7777777777777778,\"#fb9f3a\"],[0.8888888888888888,\"#fdca26\"],[1.0,\"#f0f921\"]]}],\"heatmap\":[{\"type\":\"heatmap\",\"colorbar\":{\"outlinewidth\":0,\"ticks\":\"\"},\"colorscale\":[[0.0,\"#0d0887\"],[0.1111111111111111,\"#46039f\"],[0.2222222222222222,\"#7201a8\"],[0.3333333333333333,\"#9c179e\"],[0.4444444444444444,\"#bd3786\"],[0.5555555555555556,\"#d8576b\"],[0.6666666666666666,\"#ed7953\"],[0.7777777777777778,\"#fb9f3a\"],[0.8888888888888888,\"#fdca26\"],[1.0,\"#f0f921\"]]}],\"heatmapgl\":[{\"type\":\"heatmapgl\",\"colorbar\":{\"outlinewidth\":0,\"ticks\":\"\"},\"colorscale\":[[0.0,\"#0d0887\"],[0.1111111111111111,\"#46039f\"],[0.2222222222222222,\"#7201a8\"],[0.3333333333333333,\"#9c179e\"],[0.4444444444444444,\"#bd3786\"],[0.5555555555555556,\"#d8576b\"],[0.6666666666666666,\"#ed7953\"],[0.7777777777777778,\"#fb9f3a\"],[0.8888888888888888,\"#fdca26\"],[1.0,\"#f0f921\"]]}],\"contourcarpet\":[{\"type\":\"contourcarpet\",\"colorbar\":{\"outlinewidth\":0,\"ticks\":\"\"}}],\"contour\":[{\"type\":\"contour\",\"colorbar\":{\"outlinewidth\":0,\"ticks\":\"\"},\"colorscale\":[[0.0,\"#0d0887\"],[0.1111111111111111,\"#46039f\"],[0.2222222222222222,\"#7201a8\"],[0.3333333333333333,\"#9c179e\"],[0.4444444444444444,\"#bd3786\"],[0.5555555555555556,\"#d8576b\"],[0.6666666666666666,\"#ed7953\"],[0.7777777777777778,\"#fb9f3a\"],[0.8888888888888888,\"#fdca26\"],[1.0,\"#f0f921\"]]}],\"surface\":[{\"type\":\"surface\",\"colorbar\":{\"outlinewidth\":0,\"ticks\":\"\"},\"colorscale\":[[0.0,\"#0d0887\"],[0.1111111111111111,\"#46039f\"],[0.2222222222222222,\"#7201a8\"],[0.3333333333333333,\"#9c179e\"],[0.4444444444444444,\"#bd3786\"],[0.5555555555555556,\"#d8576b\"],[0.6666666666666666,\"#ed7953\"],[0.7777777777777778,\"#fb9f3a\"],[0.8888888888888888,\"#fdca26\"],[1.0,\"#f0f921\"]]}],\"mesh3d\":[{\"type\":\"mesh3d\",\"colorbar\":{\"outlinewidth\":0,\"ticks\":\"\"}}],\"scatter\":[{\"fillpattern\":{\"fillmode\":\"overlay\",\"size\":10,\"solidity\":0.2},\"type\":\"scatter\"}],\"parcoords\":[{\"type\":\"parcoords\",\"line\":{\"colorbar\":{\"outlinewidth\":0,\"ticks\":\"\"}}}],\"scatterpolargl\":[{\"type\":\"scatterpolargl\",\"marker\":{\"colorbar\":{\"outlinewidth\":0,\"ticks\":\"\"}}}],\"bar\":[{\"error_x\":{\"color\":\"#2a3f5f\"},\"error_y\":{\"color\":\"#2a3f5f\"},\"marker\":{\"line\":{\"color\":\"#E5ECF6\",\"width\":0.5},\"pattern\":{\"fillmode\":\"overlay\",\"size\":10,\"solidity\":0.2}},\"type\":\"bar\"}],\"scattergeo\":[{\"type\":\"scattergeo\",\"marker\":{\"colorbar\":{\"outlinewidth\":0,\"ticks\":\"\"}}}],\"scatterpolar\":[{\"type\":\"scatterpolar\",\"marker\":{\"colorbar\":{\"outlinewidth\":0,\"ticks\":\"\"}}}],\"histogram\":[{\"marker\":{\"pattern\":{\"fillmode\":\"overlay\",\"size\":10,\"solidity\":0.2}},\"type\":\"histogram\"}],\"scattergl\":[{\"type\":\"scattergl\",\"marker\":{\"colorbar\":{\"outlinewidth\":0,\"ticks\":\"\"}}}],\"scatter3d\":[{\"type\":\"scatter3d\",\"line\":{\"colorbar\":{\"outlinewidth\":0,\"ticks\":\"\"}},\"marker\":{\"colorbar\":{\"outlinewidth\":0,\"ticks\":\"\"}}}],\"scattermapbox\":[{\"type\":\"scattermapbox\",\"marker\":{\"colorbar\":{\"outlinewidth\":0,\"ticks\":\"\"}}}],\"scatterternary\":[{\"type\":\"scatterternary\",\"marker\":{\"colorbar\":{\"outlinewidth\":0,\"ticks\":\"\"}}}],\"scattercarpet\":[{\"type\":\"scattercarpet\",\"marker\":{\"colorbar\":{\"outlinewidth\":0,\"ticks\":\"\"}}}],\"carpet\":[{\"aaxis\":{\"endlinecolor\":\"#2a3f5f\",\"gridcolor\":\"white\",\"linecolor\":\"white\",\"minorgridcolor\":\"white\",\"startlinecolor\":\"#2a3f5f\"},\"baxis\":{\"endlinecolor\":\"#2a3f5f\",\"gridcolor\":\"white\",\"linecolor\":\"white\",\"minorgridcolor\":\"white\",\"startlinecolor\":\"#2a3f5f\"},\"type\":\"carpet\"}],\"table\":[{\"cells\":{\"fill\":{\"color\":\"#EBF0F8\"},\"line\":{\"color\":\"white\"}},\"header\":{\"fill\":{\"color\":\"#C8D4E3\"},\"line\":{\"color\":\"white\"}},\"type\":\"table\"}],\"barpolar\":[{\"marker\":{\"line\":{\"color\":\"#E5ECF6\",\"width\":0.5},\"pattern\":{\"fillmode\":\"overlay\",\"size\":10,\"solidity\":0.2}},\"type\":\"barpolar\"}],\"pie\":[{\"automargin\":true,\"type\":\"pie\"}]},\"layout\":{\"autotypenumbers\":\"strict\",\"colorway\":[\"#636efa\",\"#EF553B\",\"#00cc96\",\"#ab63fa\",\"#FFA15A\",\"#19d3f3\",\"#FF6692\",\"#B6E880\",\"#FF97FF\",\"#FECB52\"],\"font\":{\"color\":\"#2a3f5f\"},\"hovermode\":\"closest\",\"hoverlabel\":{\"align\":\"left\"},\"paper_bgcolor\":\"white\",\"plot_bgcolor\":\"#E5ECF6\",\"polar\":{\"bgcolor\":\"#E5ECF6\",\"angularaxis\":{\"gridcolor\":\"white\",\"linecolor\":\"white\",\"ticks\":\"\"},\"radialaxis\":{\"gridcolor\":\"white\",\"linecolor\":\"white\",\"ticks\":\"\"}},\"ternary\":{\"bgcolor\":\"#E5ECF6\",\"aaxis\":{\"gridcolor\":\"white\",\"linecolor\":\"white\",\"ticks\":\"\"},\"baxis\":{\"gridcolor\":\"white\",\"linecolor\":\"white\",\"ticks\":\"\"},\"caxis\":{\"gridcolor\":\"white\",\"linecolor\":\"white\",\"ticks\":\"\"}},\"coloraxis\":{\"colorbar\":{\"outlinewidth\":0,\"ticks\":\"\"}},\"colorscale\":{\"sequential\":[[0.0,\"#0d0887\"],[0.1111111111111111,\"#46039f\"],[0.2222222222222222,\"#7201a8\"],[0.3333333333333333,\"#9c179e\"],[0.4444444444444444,\"#bd3786\"],[0.5555555555555556,\"#d8576b\"],[0.6666666666666666,\"#ed7953\"],[0.7777777777777778,\"#fb9f3a\"],[0.8888888888888888,\"#fdca26\"],[1.0,\"#f0f921\"]],\"sequentialminus\":[[0.0,\"#0d0887\"],[0.1111111111111111,\"#46039f\"],[0.2222222222222222,\"#7201a8\"],[0.3333333333333333,\"#9c179e\"],[0.4444444444444444,\"#bd3786\"],[0.5555555555555556,\"#d8576b\"],[0.6666666666666666,\"#ed7953\"],[0.7777777777777778,\"#fb9f3a\"],[0.8888888888888888,\"#fdca26\"],[1.0,\"#f0f921\"]],\"diverging\":[[0,\"#8e0152\"],[0.1,\"#c51b7d\"],[0.2,\"#de77ae\"],[0.3,\"#f1b6da\"],[0.4,\"#fde0ef\"],[0.5,\"#f7f7f7\"],[0.6,\"#e6f5d0\"],[0.7,\"#b8e186\"],[0.8,\"#7fbc41\"],[0.9,\"#4d9221\"],[1,\"#276419\"]]},\"xaxis\":{\"gridcolor\":\"white\",\"linecolor\":\"white\",\"ticks\":\"\",\"title\":{\"standoff\":15},\"zerolinecolor\":\"white\",\"automargin\":true,\"zerolinewidth\":2},\"yaxis\":{\"gridcolor\":\"white\",\"linecolor\":\"white\",\"ticks\":\"\",\"title\":{\"standoff\":15},\"zerolinecolor\":\"white\",\"automargin\":true,\"zerolinewidth\":2},\"scene\":{\"xaxis\":{\"backgroundcolor\":\"#E5ECF6\",\"gridcolor\":\"white\",\"linecolor\":\"white\",\"showbackground\":true,\"ticks\":\"\",\"zerolinecolor\":\"white\",\"gridwidth\":2},\"yaxis\":{\"backgroundcolor\":\"#E5ECF6\",\"gridcolor\":\"white\",\"linecolor\":\"white\",\"showbackground\":true,\"ticks\":\"\",\"zerolinecolor\":\"white\",\"gridwidth\":2},\"zaxis\":{\"backgroundcolor\":\"#E5ECF6\",\"gridcolor\":\"white\",\"linecolor\":\"white\",\"showbackground\":true,\"ticks\":\"\",\"zerolinecolor\":\"white\",\"gridwidth\":2}},\"shapedefaults\":{\"line\":{\"color\":\"#2a3f5f\"}},\"annotationdefaults\":{\"arrowcolor\":\"#2a3f5f\",\"arrowhead\":0,\"arrowwidth\":1},\"geo\":{\"bgcolor\":\"white\",\"landcolor\":\"#E5ECF6\",\"subunitcolor\":\"white\",\"showland\":true,\"showlakes\":true,\"lakecolor\":\"white\"},\"title\":{\"x\":0.05},\"mapbox\":{\"style\":\"light\"}}},\"autosize\":false,\"width\":500,\"height\":500},                        {\"responsive\": true}                    ).then(function(){\n",
       "                            \n",
       "var gd = document.getElementById('865a3790-4936-4501-89c8-72027fd004d4');\n",
       "var x = new MutationObserver(function (mutations, observer) {{\n",
       "        var display = window.getComputedStyle(gd).display;\n",
       "        if (!display || display === 'none') {{\n",
       "            console.log([gd, 'removed!']);\n",
       "            Plotly.purge(gd);\n",
       "            observer.disconnect();\n",
       "        }}\n",
       "}});\n",
       "\n",
       "// Listen for the removal of the full notebook cells\n",
       "var notebookContainer = gd.closest('#notebook-container');\n",
       "if (notebookContainer) {{\n",
       "    x.observe(notebookContainer, {childList: true});\n",
       "}}\n",
       "\n",
       "// Listen for the clearing of the current output cell\n",
       "var outputEl = gd.closest('.output');\n",
       "if (outputEl) {{\n",
       "    x.observe(outputEl, {childList: true});\n",
       "}}\n",
       "\n",
       "                        })                };                });            </script>        </div>"
      ]
     },
     "metadata": {},
     "output_type": "display_data"
    }
   ],
   "source": [
    "import plotly.graph_objects as go\n",
    "df_sorted = df.sort_values(by='G\\A', ascending=False)\n",
    "labels=np.array([\n",
    "    \"Goals\",\n",
    "    \"Assists\",\n",
    "    \"G\\A\",\n",
    "    \"Matches\",\n",
    "    \"Market_Value\"\n",
    "])\n",
    "stats=df_sorted.loc[63,labels].values\n",
    "fig = go.Figure()\n",
    "fig.add_trace(go.Scatterpolar(\n",
    "      r=stats,\n",
    "      theta=labels,\n",
    "      fill='toself',\n",
    "      name='R.Lewandowski'\n",
    "))\n",
    "stats=df_sorted.loc[333, labels].values\n",
    "fig.add_trace(go.Scatterpolar(\n",
    "      r=stats,\n",
    "      theta=labels,\n",
    "      fill='toself',\n",
    "      name='K.Benzema'\n",
    "))\n",
    "fig.update_layout(\n",
    "    autosize=False,\n",
    "    width=500,\n",
    "    height=500,)\n",
    "fig.show()"
   ]
  },
  {
   "cell_type": "code",
   "execution_count": 43,
   "id": "38ef8b24",
   "metadata": {},
   "outputs": [
    {
     "data": {
      "text/plain": [
       "(    Point           Name            Position  Age  Market_Value  Country  \\\n",
       " 42     42  Florian Wirtz  Attacking Midfield   18          58.5  Germany   \n",
       " \n",
       "                    Club  Matches  Goals  Own Goals  Assists  Yellow Cards  \\\n",
       " 42  Bayer 04 Leverkusen       14      7          0        7             2   \n",
       " \n",
       "     Second Yellow Cards  Red Cards  Number Of Substitute In  \\\n",
       " 42                    0          0                        4   \n",
       " \n",
       "     Number Of Substitute Out  G\\A  \n",
       " 42                         8   14  ,\n",
       "     Point                Name            Position  Age  Market_Value Country  \\\n",
       " 96     96  Christopher Nkunku  Attacking Midfield   24          42.3  France   \n",
       " \n",
       "           Club  Matches  Goals  Own Goals  Assists  Yellow Cards  \\\n",
       " 96  RB Leipzig       17     11          0        7             0   \n",
       " \n",
       "     Second Yellow Cards  Red Cards  Number Of Substitute In  \\\n",
       " 96                    0          0                        1   \n",
       " \n",
       "     Number Of Substitute Out  G\\A  \n",
       " 96                         7   18  )"
      ]
     },
     "execution_count": 43,
     "metadata": {},
     "output_type": "execute_result"
    }
   ],
   "source": [
    "df[df[\"Name\"] == \"Florian Wirtz\"],df[df[\"Name\"] == \"Christopher Nkunku\"]"
   ]
  },
  {
   "cell_type": "code",
   "execution_count": 44,
   "id": "c7f01a0b",
   "metadata": {
    "scrolled": true
   },
   "outputs": [
    {
     "data": {
      "application/vnd.plotly.v1+json": {
       "config": {
        "plotlyServerURL": "https://plot.ly"
       },
       "data": [
        {
         "fill": "toself",
         "name": "F.Wirtz",
         "r": [
          7,
          7,
          14,
          14,
          58.5
         ],
         "theta": [
          "Goals",
          "Assists",
          "G\\A",
          "Matches",
          "Market_Value"
         ],
         "type": "scatterpolar"
        },
        {
         "fill": "toself",
         "name": "C.Nkunku",
         "r": [
          11,
          7,
          18,
          17,
          42.3
         ],
         "theta": [
          "Goals",
          "Assists",
          "G\\A",
          "Matches",
          "Market_Value"
         ],
         "type": "scatterpolar"
        }
       ],
       "layout": {
        "autosize": true,
        "height": 500,
        "template": {
         "data": {
          "bar": [
           {
            "error_x": {
             "color": "#2a3f5f"
            },
            "error_y": {
             "color": "#2a3f5f"
            },
            "marker": {
             "line": {
              "color": "#E5ECF6",
              "width": 0.5
             },
             "pattern": {
              "fillmode": "overlay",
              "size": 10,
              "solidity": 0.2
             }
            },
            "type": "bar"
           }
          ],
          "barpolar": [
           {
            "marker": {
             "line": {
              "color": "#E5ECF6",
              "width": 0.5
             },
             "pattern": {
              "fillmode": "overlay",
              "size": 10,
              "solidity": 0.2
             }
            },
            "type": "barpolar"
           }
          ],
          "carpet": [
           {
            "aaxis": {
             "endlinecolor": "#2a3f5f",
             "gridcolor": "white",
             "linecolor": "white",
             "minorgridcolor": "white",
             "startlinecolor": "#2a3f5f"
            },
            "baxis": {
             "endlinecolor": "#2a3f5f",
             "gridcolor": "white",
             "linecolor": "white",
             "minorgridcolor": "white",
             "startlinecolor": "#2a3f5f"
            },
            "type": "carpet"
           }
          ],
          "choropleth": [
           {
            "colorbar": {
             "outlinewidth": 0,
             "ticks": ""
            },
            "type": "choropleth"
           }
          ],
          "contour": [
           {
            "colorbar": {
             "outlinewidth": 0,
             "ticks": ""
            },
            "colorscale": [
             [
              0,
              "#0d0887"
             ],
             [
              0.1111111111111111,
              "#46039f"
             ],
             [
              0.2222222222222222,
              "#7201a8"
             ],
             [
              0.3333333333333333,
              "#9c179e"
             ],
             [
              0.4444444444444444,
              "#bd3786"
             ],
             [
              0.5555555555555556,
              "#d8576b"
             ],
             [
              0.6666666666666666,
              "#ed7953"
             ],
             [
              0.7777777777777778,
              "#fb9f3a"
             ],
             [
              0.8888888888888888,
              "#fdca26"
             ],
             [
              1,
              "#f0f921"
             ]
            ],
            "type": "contour"
           }
          ],
          "contourcarpet": [
           {
            "colorbar": {
             "outlinewidth": 0,
             "ticks": ""
            },
            "type": "contourcarpet"
           }
          ],
          "heatmap": [
           {
            "colorbar": {
             "outlinewidth": 0,
             "ticks": ""
            },
            "colorscale": [
             [
              0,
              "#0d0887"
             ],
             [
              0.1111111111111111,
              "#46039f"
             ],
             [
              0.2222222222222222,
              "#7201a8"
             ],
             [
              0.3333333333333333,
              "#9c179e"
             ],
             [
              0.4444444444444444,
              "#bd3786"
             ],
             [
              0.5555555555555556,
              "#d8576b"
             ],
             [
              0.6666666666666666,
              "#ed7953"
             ],
             [
              0.7777777777777778,
              "#fb9f3a"
             ],
             [
              0.8888888888888888,
              "#fdca26"
             ],
             [
              1,
              "#f0f921"
             ]
            ],
            "type": "heatmap"
           }
          ],
          "heatmapgl": [
           {
            "colorbar": {
             "outlinewidth": 0,
             "ticks": ""
            },
            "colorscale": [
             [
              0,
              "#0d0887"
             ],
             [
              0.1111111111111111,
              "#46039f"
             ],
             [
              0.2222222222222222,
              "#7201a8"
             ],
             [
              0.3333333333333333,
              "#9c179e"
             ],
             [
              0.4444444444444444,
              "#bd3786"
             ],
             [
              0.5555555555555556,
              "#d8576b"
             ],
             [
              0.6666666666666666,
              "#ed7953"
             ],
             [
              0.7777777777777778,
              "#fb9f3a"
             ],
             [
              0.8888888888888888,
              "#fdca26"
             ],
             [
              1,
              "#f0f921"
             ]
            ],
            "type": "heatmapgl"
           }
          ],
          "histogram": [
           {
            "marker": {
             "pattern": {
              "fillmode": "overlay",
              "size": 10,
              "solidity": 0.2
             }
            },
            "type": "histogram"
           }
          ],
          "histogram2d": [
           {
            "colorbar": {
             "outlinewidth": 0,
             "ticks": ""
            },
            "colorscale": [
             [
              0,
              "#0d0887"
             ],
             [
              0.1111111111111111,
              "#46039f"
             ],
             [
              0.2222222222222222,
              "#7201a8"
             ],
             [
              0.3333333333333333,
              "#9c179e"
             ],
             [
              0.4444444444444444,
              "#bd3786"
             ],
             [
              0.5555555555555556,
              "#d8576b"
             ],
             [
              0.6666666666666666,
              "#ed7953"
             ],
             [
              0.7777777777777778,
              "#fb9f3a"
             ],
             [
              0.8888888888888888,
              "#fdca26"
             ],
             [
              1,
              "#f0f921"
             ]
            ],
            "type": "histogram2d"
           }
          ],
          "histogram2dcontour": [
           {
            "colorbar": {
             "outlinewidth": 0,
             "ticks": ""
            },
            "colorscale": [
             [
              0,
              "#0d0887"
             ],
             [
              0.1111111111111111,
              "#46039f"
             ],
             [
              0.2222222222222222,
              "#7201a8"
             ],
             [
              0.3333333333333333,
              "#9c179e"
             ],
             [
              0.4444444444444444,
              "#bd3786"
             ],
             [
              0.5555555555555556,
              "#d8576b"
             ],
             [
              0.6666666666666666,
              "#ed7953"
             ],
             [
              0.7777777777777778,
              "#fb9f3a"
             ],
             [
              0.8888888888888888,
              "#fdca26"
             ],
             [
              1,
              "#f0f921"
             ]
            ],
            "type": "histogram2dcontour"
           }
          ],
          "mesh3d": [
           {
            "colorbar": {
             "outlinewidth": 0,
             "ticks": ""
            },
            "type": "mesh3d"
           }
          ],
          "parcoords": [
           {
            "line": {
             "colorbar": {
              "outlinewidth": 0,
              "ticks": ""
             }
            },
            "type": "parcoords"
           }
          ],
          "pie": [
           {
            "automargin": true,
            "type": "pie"
           }
          ],
          "scatter": [
           {
            "fillpattern": {
             "fillmode": "overlay",
             "size": 10,
             "solidity": 0.2
            },
            "type": "scatter"
           }
          ],
          "scatter3d": [
           {
            "line": {
             "colorbar": {
              "outlinewidth": 0,
              "ticks": ""
             }
            },
            "marker": {
             "colorbar": {
              "outlinewidth": 0,
              "ticks": ""
             }
            },
            "type": "scatter3d"
           }
          ],
          "scattercarpet": [
           {
            "marker": {
             "colorbar": {
              "outlinewidth": 0,
              "ticks": ""
             }
            },
            "type": "scattercarpet"
           }
          ],
          "scattergeo": [
           {
            "marker": {
             "colorbar": {
              "outlinewidth": 0,
              "ticks": ""
             }
            },
            "type": "scattergeo"
           }
          ],
          "scattergl": [
           {
            "marker": {
             "colorbar": {
              "outlinewidth": 0,
              "ticks": ""
             }
            },
            "type": "scattergl"
           }
          ],
          "scattermapbox": [
           {
            "marker": {
             "colorbar": {
              "outlinewidth": 0,
              "ticks": ""
             }
            },
            "type": "scattermapbox"
           }
          ],
          "scatterpolar": [
           {
            "marker": {
             "colorbar": {
              "outlinewidth": 0,
              "ticks": ""
             }
            },
            "type": "scatterpolar"
           }
          ],
          "scatterpolargl": [
           {
            "marker": {
             "colorbar": {
              "outlinewidth": 0,
              "ticks": ""
             }
            },
            "type": "scatterpolargl"
           }
          ],
          "scatterternary": [
           {
            "marker": {
             "colorbar": {
              "outlinewidth": 0,
              "ticks": ""
             }
            },
            "type": "scatterternary"
           }
          ],
          "surface": [
           {
            "colorbar": {
             "outlinewidth": 0,
             "ticks": ""
            },
            "colorscale": [
             [
              0,
              "#0d0887"
             ],
             [
              0.1111111111111111,
              "#46039f"
             ],
             [
              0.2222222222222222,
              "#7201a8"
             ],
             [
              0.3333333333333333,
              "#9c179e"
             ],
             [
              0.4444444444444444,
              "#bd3786"
             ],
             [
              0.5555555555555556,
              "#d8576b"
             ],
             [
              0.6666666666666666,
              "#ed7953"
             ],
             [
              0.7777777777777778,
              "#fb9f3a"
             ],
             [
              0.8888888888888888,
              "#fdca26"
             ],
             [
              1,
              "#f0f921"
             ]
            ],
            "type": "surface"
           }
          ],
          "table": [
           {
            "cells": {
             "fill": {
              "color": "#EBF0F8"
             },
             "line": {
              "color": "white"
             }
            },
            "header": {
             "fill": {
              "color": "#C8D4E3"
             },
             "line": {
              "color": "white"
             }
            },
            "type": "table"
           }
          ]
         },
         "layout": {
          "annotationdefaults": {
           "arrowcolor": "#2a3f5f",
           "arrowhead": 0,
           "arrowwidth": 1
          },
          "autotypenumbers": "strict",
          "coloraxis": {
           "colorbar": {
            "outlinewidth": 0,
            "ticks": ""
           }
          },
          "colorscale": {
           "diverging": [
            [
             0,
             "#8e0152"
            ],
            [
             0.1,
             "#c51b7d"
            ],
            [
             0.2,
             "#de77ae"
            ],
            [
             0.3,
             "#f1b6da"
            ],
            [
             0.4,
             "#fde0ef"
            ],
            [
             0.5,
             "#f7f7f7"
            ],
            [
             0.6,
             "#e6f5d0"
            ],
            [
             0.7,
             "#b8e186"
            ],
            [
             0.8,
             "#7fbc41"
            ],
            [
             0.9,
             "#4d9221"
            ],
            [
             1,
             "#276419"
            ]
           ],
           "sequential": [
            [
             0,
             "#0d0887"
            ],
            [
             0.1111111111111111,
             "#46039f"
            ],
            [
             0.2222222222222222,
             "#7201a8"
            ],
            [
             0.3333333333333333,
             "#9c179e"
            ],
            [
             0.4444444444444444,
             "#bd3786"
            ],
            [
             0.5555555555555556,
             "#d8576b"
            ],
            [
             0.6666666666666666,
             "#ed7953"
            ],
            [
             0.7777777777777778,
             "#fb9f3a"
            ],
            [
             0.8888888888888888,
             "#fdca26"
            ],
            [
             1,
             "#f0f921"
            ]
           ],
           "sequentialminus": [
            [
             0,
             "#0d0887"
            ],
            [
             0.1111111111111111,
             "#46039f"
            ],
            [
             0.2222222222222222,
             "#7201a8"
            ],
            [
             0.3333333333333333,
             "#9c179e"
            ],
            [
             0.4444444444444444,
             "#bd3786"
            ],
            [
             0.5555555555555556,
             "#d8576b"
            ],
            [
             0.6666666666666666,
             "#ed7953"
            ],
            [
             0.7777777777777778,
             "#fb9f3a"
            ],
            [
             0.8888888888888888,
             "#fdca26"
            ],
            [
             1,
             "#f0f921"
            ]
           ]
          },
          "colorway": [
           "#636efa",
           "#EF553B",
           "#00cc96",
           "#ab63fa",
           "#FFA15A",
           "#19d3f3",
           "#FF6692",
           "#B6E880",
           "#FF97FF",
           "#FECB52"
          ],
          "font": {
           "color": "#2a3f5f"
          },
          "geo": {
           "bgcolor": "white",
           "lakecolor": "white",
           "landcolor": "#E5ECF6",
           "showlakes": true,
           "showland": true,
           "subunitcolor": "white"
          },
          "hoverlabel": {
           "align": "left"
          },
          "hovermode": "closest",
          "mapbox": {
           "style": "light"
          },
          "paper_bgcolor": "white",
          "plot_bgcolor": "#E5ECF6",
          "polar": {
           "angularaxis": {
            "gridcolor": "white",
            "linecolor": "white",
            "ticks": ""
           },
           "bgcolor": "#E5ECF6",
           "radialaxis": {
            "gridcolor": "white",
            "linecolor": "white",
            "ticks": ""
           }
          },
          "scene": {
           "xaxis": {
            "backgroundcolor": "#E5ECF6",
            "gridcolor": "white",
            "gridwidth": 2,
            "linecolor": "white",
            "showbackground": true,
            "ticks": "",
            "zerolinecolor": "white"
           },
           "yaxis": {
            "backgroundcolor": "#E5ECF6",
            "gridcolor": "white",
            "gridwidth": 2,
            "linecolor": "white",
            "showbackground": true,
            "ticks": "",
            "zerolinecolor": "white"
           },
           "zaxis": {
            "backgroundcolor": "#E5ECF6",
            "gridcolor": "white",
            "gridwidth": 2,
            "linecolor": "white",
            "showbackground": true,
            "ticks": "",
            "zerolinecolor": "white"
           }
          },
          "shapedefaults": {
           "line": {
            "color": "#2a3f5f"
           }
          },
          "ternary": {
           "aaxis": {
            "gridcolor": "white",
            "linecolor": "white",
            "ticks": ""
           },
           "baxis": {
            "gridcolor": "white",
            "linecolor": "white",
            "ticks": ""
           },
           "bgcolor": "#E5ECF6",
           "caxis": {
            "gridcolor": "white",
            "linecolor": "white",
            "ticks": ""
           }
          },
          "title": {
           "x": 0.05
          },
          "xaxis": {
           "automargin": true,
           "gridcolor": "white",
           "linecolor": "white",
           "ticks": "",
           "title": {
            "standoff": 15
           },
           "zerolinecolor": "white",
           "zerolinewidth": 2
          },
          "yaxis": {
           "automargin": true,
           "gridcolor": "white",
           "linecolor": "white",
           "ticks": "",
           "title": {
            "standoff": 15
           },
           "zerolinecolor": "white",
           "zerolinewidth": 2
          }
         }
        },
        "width": 500
       }
      },
      "text/html": [
       "<div>                            <div id=\"973b2107-d931-4e47-95e8-76951698c918\" class=\"plotly-graph-div\" style=\"height:500px; width:500px;\"></div>            <script type=\"text/javascript\">                require([\"plotly\"], function(Plotly) {                    window.PLOTLYENV=window.PLOTLYENV || {};                                    if (document.getElementById(\"973b2107-d931-4e47-95e8-76951698c918\")) {                    Plotly.newPlot(                        \"973b2107-d931-4e47-95e8-76951698c918\",                        [{\"fill\":\"toself\",\"name\":\"F.Wirtz\",\"r\":[7,7,14,14,58.5],\"theta\":[\"Goals\",\"Assists\",\"G\\\\A\",\"Matches\",\"Market_Value\"],\"type\":\"scatterpolar\"},{\"fill\":\"toself\",\"name\":\"C.Nkunku\",\"r\":[11,7,18,17,42.3],\"theta\":[\"Goals\",\"Assists\",\"G\\\\A\",\"Matches\",\"Market_Value\"],\"type\":\"scatterpolar\"}],                        {\"template\":{\"data\":{\"histogram2dcontour\":[{\"type\":\"histogram2dcontour\",\"colorbar\":{\"outlinewidth\":0,\"ticks\":\"\"},\"colorscale\":[[0.0,\"#0d0887\"],[0.1111111111111111,\"#46039f\"],[0.2222222222222222,\"#7201a8\"],[0.3333333333333333,\"#9c179e\"],[0.4444444444444444,\"#bd3786\"],[0.5555555555555556,\"#d8576b\"],[0.6666666666666666,\"#ed7953\"],[0.7777777777777778,\"#fb9f3a\"],[0.8888888888888888,\"#fdca26\"],[1.0,\"#f0f921\"]]}],\"choropleth\":[{\"type\":\"choropleth\",\"colorbar\":{\"outlinewidth\":0,\"ticks\":\"\"}}],\"histogram2d\":[{\"type\":\"histogram2d\",\"colorbar\":{\"outlinewidth\":0,\"ticks\":\"\"},\"colorscale\":[[0.0,\"#0d0887\"],[0.1111111111111111,\"#46039f\"],[0.2222222222222222,\"#7201a8\"],[0.3333333333333333,\"#9c179e\"],[0.4444444444444444,\"#bd3786\"],[0.5555555555555556,\"#d8576b\"],[0.6666666666666666,\"#ed7953\"],[0.7777777777777778,\"#fb9f3a\"],[0.8888888888888888,\"#fdca26\"],[1.0,\"#f0f921\"]]}],\"heatmap\":[{\"type\":\"heatmap\",\"colorbar\":{\"outlinewidth\":0,\"ticks\":\"\"},\"colorscale\":[[0.0,\"#0d0887\"],[0.1111111111111111,\"#46039f\"],[0.2222222222222222,\"#7201a8\"],[0.3333333333333333,\"#9c179e\"],[0.4444444444444444,\"#bd3786\"],[0.5555555555555556,\"#d8576b\"],[0.6666666666666666,\"#ed7953\"],[0.7777777777777778,\"#fb9f3a\"],[0.8888888888888888,\"#fdca26\"],[1.0,\"#f0f921\"]]}],\"heatmapgl\":[{\"type\":\"heatmapgl\",\"colorbar\":{\"outlinewidth\":0,\"ticks\":\"\"},\"colorscale\":[[0.0,\"#0d0887\"],[0.1111111111111111,\"#46039f\"],[0.2222222222222222,\"#7201a8\"],[0.3333333333333333,\"#9c179e\"],[0.4444444444444444,\"#bd3786\"],[0.5555555555555556,\"#d8576b\"],[0.6666666666666666,\"#ed7953\"],[0.7777777777777778,\"#fb9f3a\"],[0.8888888888888888,\"#fdca26\"],[1.0,\"#f0f921\"]]}],\"contourcarpet\":[{\"type\":\"contourcarpet\",\"colorbar\":{\"outlinewidth\":0,\"ticks\":\"\"}}],\"contour\":[{\"type\":\"contour\",\"colorbar\":{\"outlinewidth\":0,\"ticks\":\"\"},\"colorscale\":[[0.0,\"#0d0887\"],[0.1111111111111111,\"#46039f\"],[0.2222222222222222,\"#7201a8\"],[0.3333333333333333,\"#9c179e\"],[0.4444444444444444,\"#bd3786\"],[0.5555555555555556,\"#d8576b\"],[0.6666666666666666,\"#ed7953\"],[0.7777777777777778,\"#fb9f3a\"],[0.8888888888888888,\"#fdca26\"],[1.0,\"#f0f921\"]]}],\"surface\":[{\"type\":\"surface\",\"colorbar\":{\"outlinewidth\":0,\"ticks\":\"\"},\"colorscale\":[[0.0,\"#0d0887\"],[0.1111111111111111,\"#46039f\"],[0.2222222222222222,\"#7201a8\"],[0.3333333333333333,\"#9c179e\"],[0.4444444444444444,\"#bd3786\"],[0.5555555555555556,\"#d8576b\"],[0.6666666666666666,\"#ed7953\"],[0.7777777777777778,\"#fb9f3a\"],[0.8888888888888888,\"#fdca26\"],[1.0,\"#f0f921\"]]}],\"mesh3d\":[{\"type\":\"mesh3d\",\"colorbar\":{\"outlinewidth\":0,\"ticks\":\"\"}}],\"scatter\":[{\"fillpattern\":{\"fillmode\":\"overlay\",\"size\":10,\"solidity\":0.2},\"type\":\"scatter\"}],\"parcoords\":[{\"type\":\"parcoords\",\"line\":{\"colorbar\":{\"outlinewidth\":0,\"ticks\":\"\"}}}],\"scatterpolargl\":[{\"type\":\"scatterpolargl\",\"marker\":{\"colorbar\":{\"outlinewidth\":0,\"ticks\":\"\"}}}],\"bar\":[{\"error_x\":{\"color\":\"#2a3f5f\"},\"error_y\":{\"color\":\"#2a3f5f\"},\"marker\":{\"line\":{\"color\":\"#E5ECF6\",\"width\":0.5},\"pattern\":{\"fillmode\":\"overlay\",\"size\":10,\"solidity\":0.2}},\"type\":\"bar\"}],\"scattergeo\":[{\"type\":\"scattergeo\",\"marker\":{\"colorbar\":{\"outlinewidth\":0,\"ticks\":\"\"}}}],\"scatterpolar\":[{\"type\":\"scatterpolar\",\"marker\":{\"colorbar\":{\"outlinewidth\":0,\"ticks\":\"\"}}}],\"histogram\":[{\"marker\":{\"pattern\":{\"fillmode\":\"overlay\",\"size\":10,\"solidity\":0.2}},\"type\":\"histogram\"}],\"scattergl\":[{\"type\":\"scattergl\",\"marker\":{\"colorbar\":{\"outlinewidth\":0,\"ticks\":\"\"}}}],\"scatter3d\":[{\"type\":\"scatter3d\",\"line\":{\"colorbar\":{\"outlinewidth\":0,\"ticks\":\"\"}},\"marker\":{\"colorbar\":{\"outlinewidth\":0,\"ticks\":\"\"}}}],\"scattermapbox\":[{\"type\":\"scattermapbox\",\"marker\":{\"colorbar\":{\"outlinewidth\":0,\"ticks\":\"\"}}}],\"scatterternary\":[{\"type\":\"scatterternary\",\"marker\":{\"colorbar\":{\"outlinewidth\":0,\"ticks\":\"\"}}}],\"scattercarpet\":[{\"type\":\"scattercarpet\",\"marker\":{\"colorbar\":{\"outlinewidth\":0,\"ticks\":\"\"}}}],\"carpet\":[{\"aaxis\":{\"endlinecolor\":\"#2a3f5f\",\"gridcolor\":\"white\",\"linecolor\":\"white\",\"minorgridcolor\":\"white\",\"startlinecolor\":\"#2a3f5f\"},\"baxis\":{\"endlinecolor\":\"#2a3f5f\",\"gridcolor\":\"white\",\"linecolor\":\"white\",\"minorgridcolor\":\"white\",\"startlinecolor\":\"#2a3f5f\"},\"type\":\"carpet\"}],\"table\":[{\"cells\":{\"fill\":{\"color\":\"#EBF0F8\"},\"line\":{\"color\":\"white\"}},\"header\":{\"fill\":{\"color\":\"#C8D4E3\"},\"line\":{\"color\":\"white\"}},\"type\":\"table\"}],\"barpolar\":[{\"marker\":{\"line\":{\"color\":\"#E5ECF6\",\"width\":0.5},\"pattern\":{\"fillmode\":\"overlay\",\"size\":10,\"solidity\":0.2}},\"type\":\"barpolar\"}],\"pie\":[{\"automargin\":true,\"type\":\"pie\"}]},\"layout\":{\"autotypenumbers\":\"strict\",\"colorway\":[\"#636efa\",\"#EF553B\",\"#00cc96\",\"#ab63fa\",\"#FFA15A\",\"#19d3f3\",\"#FF6692\",\"#B6E880\",\"#FF97FF\",\"#FECB52\"],\"font\":{\"color\":\"#2a3f5f\"},\"hovermode\":\"closest\",\"hoverlabel\":{\"align\":\"left\"},\"paper_bgcolor\":\"white\",\"plot_bgcolor\":\"#E5ECF6\",\"polar\":{\"bgcolor\":\"#E5ECF6\",\"angularaxis\":{\"gridcolor\":\"white\",\"linecolor\":\"white\",\"ticks\":\"\"},\"radialaxis\":{\"gridcolor\":\"white\",\"linecolor\":\"white\",\"ticks\":\"\"}},\"ternary\":{\"bgcolor\":\"#E5ECF6\",\"aaxis\":{\"gridcolor\":\"white\",\"linecolor\":\"white\",\"ticks\":\"\"},\"baxis\":{\"gridcolor\":\"white\",\"linecolor\":\"white\",\"ticks\":\"\"},\"caxis\":{\"gridcolor\":\"white\",\"linecolor\":\"white\",\"ticks\":\"\"}},\"coloraxis\":{\"colorbar\":{\"outlinewidth\":0,\"ticks\":\"\"}},\"colorscale\":{\"sequential\":[[0.0,\"#0d0887\"],[0.1111111111111111,\"#46039f\"],[0.2222222222222222,\"#7201a8\"],[0.3333333333333333,\"#9c179e\"],[0.4444444444444444,\"#bd3786\"],[0.5555555555555556,\"#d8576b\"],[0.6666666666666666,\"#ed7953\"],[0.7777777777777778,\"#fb9f3a\"],[0.8888888888888888,\"#fdca26\"],[1.0,\"#f0f921\"]],\"sequentialminus\":[[0.0,\"#0d0887\"],[0.1111111111111111,\"#46039f\"],[0.2222222222222222,\"#7201a8\"],[0.3333333333333333,\"#9c179e\"],[0.4444444444444444,\"#bd3786\"],[0.5555555555555556,\"#d8576b\"],[0.6666666666666666,\"#ed7953\"],[0.7777777777777778,\"#fb9f3a\"],[0.8888888888888888,\"#fdca26\"],[1.0,\"#f0f921\"]],\"diverging\":[[0,\"#8e0152\"],[0.1,\"#c51b7d\"],[0.2,\"#de77ae\"],[0.3,\"#f1b6da\"],[0.4,\"#fde0ef\"],[0.5,\"#f7f7f7\"],[0.6,\"#e6f5d0\"],[0.7,\"#b8e186\"],[0.8,\"#7fbc41\"],[0.9,\"#4d9221\"],[1,\"#276419\"]]},\"xaxis\":{\"gridcolor\":\"white\",\"linecolor\":\"white\",\"ticks\":\"\",\"title\":{\"standoff\":15},\"zerolinecolor\":\"white\",\"automargin\":true,\"zerolinewidth\":2},\"yaxis\":{\"gridcolor\":\"white\",\"linecolor\":\"white\",\"ticks\":\"\",\"title\":{\"standoff\":15},\"zerolinecolor\":\"white\",\"automargin\":true,\"zerolinewidth\":2},\"scene\":{\"xaxis\":{\"backgroundcolor\":\"#E5ECF6\",\"gridcolor\":\"white\",\"linecolor\":\"white\",\"showbackground\":true,\"ticks\":\"\",\"zerolinecolor\":\"white\",\"gridwidth\":2},\"yaxis\":{\"backgroundcolor\":\"#E5ECF6\",\"gridcolor\":\"white\",\"linecolor\":\"white\",\"showbackground\":true,\"ticks\":\"\",\"zerolinecolor\":\"white\",\"gridwidth\":2},\"zaxis\":{\"backgroundcolor\":\"#E5ECF6\",\"gridcolor\":\"white\",\"linecolor\":\"white\",\"showbackground\":true,\"ticks\":\"\",\"zerolinecolor\":\"white\",\"gridwidth\":2}},\"shapedefaults\":{\"line\":{\"color\":\"#2a3f5f\"}},\"annotationdefaults\":{\"arrowcolor\":\"#2a3f5f\",\"arrowhead\":0,\"arrowwidth\":1},\"geo\":{\"bgcolor\":\"white\",\"landcolor\":\"#E5ECF6\",\"subunitcolor\":\"white\",\"showland\":true,\"showlakes\":true,\"lakecolor\":\"white\"},\"title\":{\"x\":0.05},\"mapbox\":{\"style\":\"light\"}}},\"autosize\":true,\"width\":500,\"height\":500},                        {\"responsive\": true}                    ).then(function(){\n",
       "                            \n",
       "var gd = document.getElementById('973b2107-d931-4e47-95e8-76951698c918');\n",
       "var x = new MutationObserver(function (mutations, observer) {{\n",
       "        var display = window.getComputedStyle(gd).display;\n",
       "        if (!display || display === 'none') {{\n",
       "            console.log([gd, 'removed!']);\n",
       "            Plotly.purge(gd);\n",
       "            observer.disconnect();\n",
       "        }}\n",
       "}});\n",
       "\n",
       "// Listen for the removal of the full notebook cells\n",
       "var notebookContainer = gd.closest('#notebook-container');\n",
       "if (notebookContainer) {{\n",
       "    x.observe(notebookContainer, {childList: true});\n",
       "}}\n",
       "\n",
       "// Listen for the clearing of the current output cell\n",
       "var outputEl = gd.closest('.output');\n",
       "if (outputEl) {{\n",
       "    x.observe(outputEl, {childList: true});\n",
       "}}\n",
       "\n",
       "                        })                };                });            </script>        </div>"
      ]
     },
     "metadata": {},
     "output_type": "display_data"
    }
   ],
   "source": [
    "import plotly.graph_objects as go\n",
    "wirts_nkunku=df[df[\"Name\"] == \"Florian Wirtz\"],df[df[\"Name\"] == \"Christopher Nkunku\"]\n",
    "df_sorted = df.sort_values(by='G\\A', ascending=False)\n",
    "labels=np.array([\n",
    "    \"Goals\",\n",
    "    \"Assists\",\n",
    "    \"G\\A\",\n",
    "    \"Matches\",\n",
    "    \"Market_Value\"\n",
    "])\n",
    "stats=df_sorted.loc[42,labels].values\n",
    "fig = go.Figure()\n",
    "fig.add_trace(go.Scatterpolar(\n",
    "      r=stats,\n",
    "      theta=labels,\n",
    "      fill='toself',\n",
    "      name='F.Wirtz',\n",
    "      \n",
    "))\n",
    "stats=df_sorted.loc[96, labels].values\n",
    "fig.add_trace(go.Scatterpolar( \n",
    "      r=stats,\n",
    "      theta=labels,\n",
    "      fill='toself',\n",
    "      name='C.Nkunku'\n",
    "))\n",
    "\n",
    "fig.update_layout(\n",
    "    autosize=True,\n",
    "    width=500,\n",
    "    height=500,)\n",
    "fig.show()"
   ]
  },
  {
   "cell_type": "code",
   "execution_count": 45,
   "id": "b5071c0f",
   "metadata": {},
   "outputs": [
    {
     "data": {
      "image/png": "[encoded data removed]",
      "text/plain": [
       "<Figure size 720x720 with 2 Axes>"
      ]
     },
     "metadata": {},
     "output_type": "display_data"
    }
   ],
   "source": [
    "plt.figure(figsize=(10,10))\n",
    "heat_map = sns.heatmap(df.corr(), linewidth = 1 , annot = True)\n",
    "plt.title( \"Heat Map\" )\n",
    "plt.show()"
   ]
  },
  {
   "cell_type": "code",
   "execution_count": 46,
   "id": "1585b19e",
   "metadata": {},
   "outputs": [
    {
     "data": {
      "image/png": "[encoded data removed]",
      "text/plain": [
       "<Figure size 2160x720 with 1 Axes>"
      ]
     },
     "metadata": {},
     "output_type": "display_data"
    }
   ],
   "source": [
    "df.drop([\"Name\",\"Position\",\"Country\",\"Club\"],axis=1,inplace=False)\n",
    "\n",
    "plt.figure(figsize=(30, 10))\n",
    "sns.set_style(\"white\")\n",
    "plot = sns.boxplot(data=df, width=0.25)\n",
    "plt.title(\"Box plot of players\")\n",
    "sns.despine()\n",
    "plt.show()"
   ]
  },
  {
   "cell_type": "code",
   "execution_count": 47,
   "id": "6d4c6770",
   "metadata": {},
   "outputs": [
    {
     "name": "stdout",
     "output_type": "stream",
     "text": [
      "Youngest Player Matches: 11\n",
      "Oldest Player Matches: 14\n",
      "Most Expensive Player: 144.0\n",
      "Most Goals Scored: 23\n",
      "Most Assisted: 12\n"
     ]
    }
   ],
   "source": [
    "def matches(df):\n",
    "    y=df.loc[471,\"Matches\"]\n",
    "    o=df.loc[113,\"Matches\"]\n",
    "    r=df.loc[0,\"Market_Value\"]\n",
    "    a=df.loc[63,\"Goals\"]\n",
    "    d=df.loc[238,\"Assists\"]\n",
    "    print(\"Youngest Player Matches:\",y)\n",
    "    print(\"Oldest Player Matches:\",o) \n",
    "    print(\"Most Expensive Player:\",r)\n",
    "    print(\"Most Goals Scored:\",a)\n",
    "    print(\"Most Assisted:\",d)\n",
    "matches(df)"
   ]
  },
  {
   "cell_type": "code",
   "execution_count": 48,
   "id": "5cc834a9",
   "metadata": {},
   "outputs": [
    {
     "data": {
      "image/png": "[encoded data removed]",
      "text/plain": [
       "<Figure size 720x576 with 1 Axes>"
      ]
     },
     "metadata": {},
     "output_type": "display_data"
    }
   ],
   "source": [
    "ages=[22,29,34,27,23,22,29,19,26,28,31,25,25,27,28,33]\n",
    "g_and_a=[18,6,5,5,4,3,3,3,1,1,1,0,0,0,0,0]\n",
    "\n",
    "plt.figure(figsize=(10,8))\n",
    "plt.plot(g_and_a,ages,linewidth=\"2\",label=\"G\\A\",marker=\"o\",markersize=13,markerfacecolor=\"orange\")\n",
    "plt.grid(linestyle=\"--\",linewidth=0.5)\n",
    "plt.xlabel(\"Goal And Assists\")\n",
    "plt.ylabel(\"Ages\")\n",
    "plt.title(\"Paris Saint Germain Graph\")\n",
    "plt.legend()\n",
    "plt.show()"
   ]
  },
  {
   "cell_type": "code",
   "execution_count": 49,
   "id": "0a6bce1c",
   "metadata": {},
   "outputs": [
    {
     "data": {
      "text/plain": [
       "<AxesSubplot:>"
      ]
     },
     "execution_count": 49,
     "metadata": {},
     "output_type": "execute_result"
    },
    {
     "data": {
      "image/png": "[encoded data removed]",
      "text/plain": [
       "<Figure size 864x432 with 1 Axes>"
      ]
     },
     "metadata": {},
     "output_type": "display_data"
    }
   ],
   "source": [
    "df=df.drop([\"Point\",\"Number Of Substitute In\",\"Number Of Substitute Out\",\"Red Cards\",\n",
    "            \"Yellow Cards\",\"Second Yellow Cards\"],axis=1,inplace=False)\n",
    "plt.figure(figsize=(12,6))\n",
    "sns.lineplot(data=df)"
   ]
  },
  {
   "cell_type": "code",
   "execution_count": 50,
   "id": "f62c844c",
   "metadata": {},
   "outputs": [],
   "source": [
    "from sklearn.model_selection import train_test_split\n",
    "from sklearn.metrics import accuracy_score\n",
    "from sklearn.tree import DecisionTreeClassifier"
   ]
  },
  {
   "cell_type": "code",
   "execution_count": 51,
   "id": "3e62f284",
   "metadata": {},
   "outputs": [
    {
     "data": {
      "text/plain": [
       "0.05"
      ]
     },
     "execution_count": 51,
     "metadata": {},
     "output_type": "execute_result"
    }
   ],
   "source": [
    "df=df.drop([\"Name\",\"Position\",\"Club\"],axis=1,inplace=False)\n",
    "X=df.drop(columns=[\"Country\"])\n",
    "Y=df[\"Country\"]\n",
    "X_train,X_test,Y_train,Y_test=train_test_split(X,Y,test_size=0.2)\n",
    "\n",
    "model=DecisionTreeClassifier()\n",
    "model.fit(X_train,Y_train)\n",
    "predictions=model.predict(X_test)\n",
    "\n",
    "score=accuracy_score(Y_test,predictions)\n",
    "score"
   ]
  },
  {
   "cell_type": "code",
   "execution_count": 52,
   "id": "4d67890d",
   "metadata": {},
   "outputs": [],
   "source": [
    "from sklearn import tree\n",
    "X1=df.drop(columns=[\"Country\"])\n",
    "Y2=df[\"Country\"]\n",
    "\n",
    "model=DecisionTreeClassifier()\n",
    "model.fit(X1,Y2)\n",
    "\n",
    "tree.export_graphviz(model,out_file=\"Football.dot\",feature_names=[\"Age\",\"Market_Value\",\"Matches\",\"Goals\",\"Own Goals\",\"Assists\",\"G\\A\"],class_names=sorted(Y2.unique()),\n",
    "                    label=\"all\",\n",
    "                    rounded=True,\n",
    "                    filled=True)"
   ]
  },
  {
   "cell_type": "code",
   "execution_count": 53,
   "id": "88ec4098",
   "metadata": {},
   "outputs": [
    {
     "data": {
      "image/png": "[encoded data removed]",
      "text/plain": [
       "<Figure size 576x432 with 1 Axes>"
      ]
     },
     "metadata": {},
     "output_type": "display_data"
    }
   ],
   "source": [
    "plt.figure(figsize=(8,6))\n",
    "plt.scatter(df[\"Age\"][:50] ,df[\"G\\A\"][:50])\n",
    "plt.xlabel(\"Ages\")\n",
    "plt.ylabel(\"G\\A\")\n",
    "plt.show()"
   ]
  },
  {
   "cell_type": "code",
   "execution_count": 54,
   "id": "17b90e35",
   "metadata": {},
   "outputs": [
    {
     "data": {
      "text/plain": [
       "KMeans(n_clusters=2)"
      ]
     },
     "execution_count": 54,
     "metadata": {},
     "output_type": "execute_result"
    }
   ],
   "source": [
    "from sklearn.cluster import KMeans\n",
    "df=df.drop([\"Country\"],axis=1,inplace=False)\n",
    "t=df.copy()\n",
    "kmeans=KMeans(2)\n",
    "kmeans.fit(t)"
   ]
  },
  {
   "cell_type": "code",
   "execution_count": 55,
   "id": "0f319253",
   "metadata": {},
   "outputs": [],
   "source": [
    "clusters=t.copy()\n",
    "clusters[\"cluster_pred\"]=kmeans.fit_predict(t)"
   ]
  },
  {
   "cell_type": "code",
   "execution_count": 56,
   "id": "55a154c3",
   "metadata": {},
   "outputs": [
    {
     "data": {
      "image/png": "[encoded data removed]",
      "text/plain": [
       "<Figure size 720x432 with 1 Axes>"
      ]
     },
     "metadata": {},
     "output_type": "display_data"
    }
   ],
   "source": [
    "plt.figure(figsize=(10,6))\n",
    "plt.scatter(clusters[\"Age\"],clusters[\"G\\A\"],c=clusters[\"cluster_pred\"],cmap=\"rainbow\")\n",
    "plt.xlabel(\"Ages\")\n",
    "plt.ylabel(\"G\\A\")\n",
    "plt.grid()\n",
    "plt.show()"
   ]
  },
  {
   "cell_type": "code",
   "execution_count": 57,
   "id": "02495728",
   "metadata": {},
   "outputs": [
    {
     "data": {
      "text/plain": [
       "array([[-0.93842438,  6.4044131 ,  0.83077685, ..., -0.17586311,\n",
       "         5.126136  ,  3.50272665],\n",
       "       [-1.2546051 ,  5.89188785, -0.55231447, ..., -0.17586311,\n",
       "         1.34420598,  3.2582594 ],\n",
       "       [ 0.95865995,  4.35431208,  0.83077685, ..., -0.17586311,\n",
       "         0.26365455,  1.30252147],\n",
       "       ...,\n",
       "       [-0.30606294, -0.87344554, -1.70489057, ..., -0.17586311,\n",
       "        -0.81689688, -0.89768371],\n",
       "       [ 0.01011778, -0.87344554, -1.01334491, ..., -0.17586311,\n",
       "        -0.81689688, -0.89768371],\n",
       "       [ 0.64247923, -0.87344554,  0.60026163, ..., -0.17586311,\n",
       "        -0.27662117,  0.08018526]])"
      ]
     },
     "execution_count": 57,
     "metadata": {},
     "output_type": "execute_result"
    }
   ],
   "source": [
    "from sklearn import preprocessing\n",
    "x_scaled=preprocessing.scale(t)\n",
    "x_scaled"
   ]
  },
  {
   "cell_type": "code",
   "execution_count": 58,
   "id": "0f2fe798",
   "metadata": {},
   "outputs": [
    {
     "name": "stderr",
     "output_type": "stream",
     "text": [
      "C:\\Users\\90533\\anaconda3\\lib\\site-packages\\sklearn\\cluster\\_kmeans.py:881: UserWarning:\n",
      "\n",
      "KMeans is known to have a memory leak on Windows with MKL, when there are less chunks than available threads. You can avoid it by setting the environment variable OMP_NUM_THREADS=2.\n",
      "\n"
     ]
    },
    {
     "data": {
      "text/plain": [
       "[3499.9999999999977,\n",
       " 2561.6829256663896,\n",
       " 2065.2284780914297,\n",
       " 1814.3358320718157,\n",
       " 1604.2280704216632,\n",
       " 1430.510207783679,\n",
       " 1270.8357591486183,\n",
       " 1185.0211890498495,\n",
       " 1123.107476287319,\n",
       " 1078.4824295883527,\n",
       " 1019.1387095963169,\n",
       " 978.7512240375041,\n",
       " 936.5661759444104,\n",
       " 893.3923320812735,\n",
       " 854.896468283455,\n",
       " 831.0440163041313,\n",
       " 801.9329097446632,\n",
       " 759.1609679121156,\n",
       " 749.605390012786,\n",
       " 736.3269508459744,\n",
       " 705.9590338600906,\n",
       " 686.4069532987658,\n",
       " 661.8986897776585,\n",
       " 644.2148186153017,\n",
       " 639.4936418685617,\n",
       " 616.6127689602515,\n",
       " 611.581352861343,\n",
       " 589.054285398155,\n",
       " 574.7015804977491,\n",
       " 561.765702813278,\n",
       " 564.4840922363028,\n",
       " 547.5706099484421,\n",
       " 534.3950183370047,\n",
       " 528.2928090321227,\n",
       " 513.6270924544208,\n",
       " 507.99211612148076,\n",
       " 507.6100775631903,\n",
       " 496.36587803002755,\n",
       " 492.3007892785269,\n",
       " 477.7995134915211,\n",
       " 465.7499109209127,\n",
       " 463.8221501709962,\n",
       " 457.45612511450804,\n",
       " 451.67432802554924,\n",
       " 435.87338354676876,\n",
       " 436.0285670261244,\n",
       " 427.2268148401442,\n",
       " 417.4931676484567,\n",
       " 416.46403307183033]"
      ]
     },
     "execution_count": 58,
     "metadata": {},
     "output_type": "execute_result"
    }
   ],
   "source": [
    "wcss=[]\n",
    "\n",
    "for i in range(1,50):\n",
    "    kmeans=KMeans(i)\n",
    "    kmeans.fit(x_scaled)\n",
    "    wcss.append(kmeans.inertia_)\n",
    "wcss"
   ]
  },
  {
   "cell_type": "code",
   "execution_count": 59,
   "id": "4439f42e",
   "metadata": {},
   "outputs": [
    {
     "data": {
      "image/png": "[encoded data removed]",
      "text/plain": [
       "<Figure size 432x288 with 1 Axes>"
      ]
     },
     "metadata": {},
     "output_type": "display_data"
    }
   ],
   "source": [
    "plt.plot(range(1,50),wcss)\n",
    "plt.xlabel(\"K-Means\")\n",
    "plt.ylabel(\"WCSS\")\n",
    "plt.grid()\n",
    "plt.show()"
   ]
  },
  {
   "cell_type": "code",
   "execution_count": 60,
   "id": "2ef515de",
   "metadata": {},
   "outputs": [
    {
     "data": {
      "text/html": [
       "<div>\n",
       "<style scoped>\n",
       "    .dataframe tbody tr th:only-of-type {\n",
       "        vertical-align: middle;\n",
       "    }\n",
       "\n",
       "    .dataframe tbody tr th {\n",
       "        vertical-align: top;\n",
       "    }\n",
       "\n",
       "    .dataframe thead th {\n",
       "        text-align: right;\n",
       "    }\n",
       "</style>\n",
       "<table border=\"1\" class=\"dataframe\">\n",
       "  <thead>\n",
       "    <tr style=\"text-align: right;\">\n",
       "      <th></th>\n",
       "      <th>Age</th>\n",
       "      <th>Market_Value</th>\n",
       "      <th>Matches</th>\n",
       "      <th>Goals</th>\n",
       "      <th>Own Goals</th>\n",
       "      <th>Assists</th>\n",
       "      <th>G\\A</th>\n",
       "      <th>cluster_pred</th>\n",
       "    </tr>\n",
       "  </thead>\n",
       "  <tbody>\n",
       "    <tr>\n",
       "      <th>0</th>\n",
       "      <td>22</td>\n",
       "      <td>144.0</td>\n",
       "      <td>16</td>\n",
       "      <td>7</td>\n",
       "      <td>0</td>\n",
       "      <td>11</td>\n",
       "      <td>18</td>\n",
       "      <td>6</td>\n",
       "    </tr>\n",
       "    <tr>\n",
       "      <th>1</th>\n",
       "      <td>21</td>\n",
       "      <td>135.0</td>\n",
       "      <td>10</td>\n",
       "      <td>13</td>\n",
       "      <td>0</td>\n",
       "      <td>4</td>\n",
       "      <td>17</td>\n",
       "      <td>6</td>\n",
       "    </tr>\n",
       "    <tr>\n",
       "      <th>2</th>\n",
       "      <td>28</td>\n",
       "      <td>108.0</td>\n",
       "      <td>16</td>\n",
       "      <td>7</td>\n",
       "      <td>0</td>\n",
       "      <td>2</td>\n",
       "      <td>9</td>\n",
       "      <td>5</td>\n",
       "    </tr>\n",
       "    <tr>\n",
       "      <th>3</th>\n",
       "      <td>26</td>\n",
       "      <td>90.0</td>\n",
       "      <td>15</td>\n",
       "      <td>2</td>\n",
       "      <td>0</td>\n",
       "      <td>3</td>\n",
       "      <td>5</td>\n",
       "      <td>5</td>\n",
       "    </tr>\n",
       "    <tr>\n",
       "      <th>4</th>\n",
       "      <td>29</td>\n",
       "      <td>90.0</td>\n",
       "      <td>15</td>\n",
       "      <td>15</td>\n",
       "      <td>0</td>\n",
       "      <td>6</td>\n",
       "      <td>21</td>\n",
       "      <td>6</td>\n",
       "    </tr>\n",
       "    <tr>\n",
       "      <th>...</th>\n",
       "      <td>...</td>\n",
       "      <td>...</td>\n",
       "      <td>...</td>\n",
       "      <td>...</td>\n",
       "      <td>...</td>\n",
       "      <td>...</td>\n",
       "      <td>...</td>\n",
       "      <td>...</td>\n",
       "    </tr>\n",
       "    <tr>\n",
       "      <th>495</th>\n",
       "      <td>27</td>\n",
       "      <td>16.2</td>\n",
       "      <td>0</td>\n",
       "      <td>0</td>\n",
       "      <td>0</td>\n",
       "      <td>0</td>\n",
       "      <td>0</td>\n",
       "      <td>4</td>\n",
       "    </tr>\n",
       "    <tr>\n",
       "      <th>496</th>\n",
       "      <td>28</td>\n",
       "      <td>16.2</td>\n",
       "      <td>8</td>\n",
       "      <td>1</td>\n",
       "      <td>0</td>\n",
       "      <td>3</td>\n",
       "      <td>4</td>\n",
       "      <td>0</td>\n",
       "    </tr>\n",
       "    <tr>\n",
       "      <th>497</th>\n",
       "      <td>24</td>\n",
       "      <td>16.2</td>\n",
       "      <td>5</td>\n",
       "      <td>0</td>\n",
       "      <td>0</td>\n",
       "      <td>0</td>\n",
       "      <td>0</td>\n",
       "      <td>4</td>\n",
       "    </tr>\n",
       "    <tr>\n",
       "      <th>498</th>\n",
       "      <td>25</td>\n",
       "      <td>16.2</td>\n",
       "      <td>8</td>\n",
       "      <td>0</td>\n",
       "      <td>0</td>\n",
       "      <td>0</td>\n",
       "      <td>0</td>\n",
       "      <td>4</td>\n",
       "    </tr>\n",
       "    <tr>\n",
       "      <th>499</th>\n",
       "      <td>27</td>\n",
       "      <td>16.2</td>\n",
       "      <td>15</td>\n",
       "      <td>3</td>\n",
       "      <td>0</td>\n",
       "      <td>1</td>\n",
       "      <td>4</td>\n",
       "      <td>0</td>\n",
       "    </tr>\n",
       "  </tbody>\n",
       "</table>\n",
       "<p>500 rows × 8 columns</p>\n",
       "</div>"
      ],
      "text/plain": [
       "     Age  Market_Value  Matches  Goals  Own Goals  Assists  G\\A  cluster_pred\n",
       "0     22         144.0       16      7          0       11   18             6\n",
       "1     21         135.0       10     13          0        4   17             6\n",
       "2     28         108.0       16      7          0        2    9             5\n",
       "3     26          90.0       15      2          0        3    5             5\n",
       "4     29          90.0       15     15          0        6   21             6\n",
       "..   ...           ...      ...    ...        ...      ...  ...           ...\n",
       "495   27          16.2        0      0          0        0    0             4\n",
       "496   28          16.2        8      1          0        3    4             0\n",
       "497   24          16.2        5      0          0        0    0             4\n",
       "498   25          16.2        8      0          0        0    0             4\n",
       "499   27          16.2       15      3          0        1    4             0\n",
       "\n",
       "[500 rows x 8 columns]"
      ]
     },
     "execution_count": 60,
     "metadata": {},
     "output_type": "execute_result"
    }
   ],
   "source": [
    "kmeans_new=KMeans(8)\n",
    "kmeans.fit(x_scaled)\n",
    "cluster_new=t.copy()\n",
    "cluster_new[\"cluster_pred\"]=kmeans_new.fit_predict(x_scaled)\n",
    "cluster_new"
   ]
  },
  {
   "cell_type": "code",
   "execution_count": 61,
   "id": "8f458c2f",
   "metadata": {},
   "outputs": [
    {
     "data": {
      "image/png": "[encoded data removed]",
      "text/plain": [
       "<Figure size 720x432 with 1 Axes>"
      ]
     },
     "metadata": {},
     "output_type": "display_data"
    }
   ],
   "source": [
    "plt.figure(figsize=(10,6))\n",
    "plt.scatter(cluster_new[\"Age\"],cluster_new[\"G\\A\"],c=cluster_new[\"cluster_pred\"],cmap=\"rainbow\")\n",
    "plt.xlabel(\"Ages\")\n",
    "plt.ylabel(\"G\\A\")\n",
    "plt.grid()\n",
    "plt.show()"
   ]
  },
  {
   "cell_type": "code",
   "execution_count": 37,
   "id": "3ab0f4f4",
   "metadata": {},
   "outputs": [
    {
     "data": {
      "text/html": [
       "<div>\n",
       "<style scoped>\n",
       "    .dataframe tbody tr th:only-of-type {\n",
       "        vertical-align: middle;\n",
       "    }\n",
       "\n",
       "    .dataframe tbody tr th {\n",
       "        vertical-align: top;\n",
       "    }\n",
       "\n",
       "    .dataframe thead th {\n",
       "        text-align: right;\n",
       "    }\n",
       "</style>\n",
       "<table border=\"1\" class=\"dataframe\">\n",
       "  <thead>\n",
       "    <tr style=\"text-align: right;\">\n",
       "      <th></th>\n",
       "      <th>Age</th>\n",
       "      <th>Market_Value</th>\n",
       "      <th>Matches</th>\n",
       "      <th>Goals</th>\n",
       "      <th>Own Goals</th>\n",
       "      <th>Assists</th>\n",
       "      <th>G\\A</th>\n",
       "    </tr>\n",
       "  </thead>\n",
       "  <tbody>\n",
       "    <tr>\n",
       "      <th>count</th>\n",
       "      <td>500.000000</td>\n",
       "      <td>500.000000</td>\n",
       "      <td>500.000000</td>\n",
       "      <td>500.000000</td>\n",
       "      <td>500.000000</td>\n",
       "      <td>500.00000</td>\n",
       "      <td>500.000000</td>\n",
       "    </tr>\n",
       "    <tr>\n",
       "      <th>mean</th>\n",
       "      <td>24.968000</td>\n",
       "      <td>31.537800</td>\n",
       "      <td>12.396000</td>\n",
       "      <td>2.160000</td>\n",
       "      <td>0.030000</td>\n",
       "      <td>1.51200</td>\n",
       "      <td>3.672000</td>\n",
       "    </tr>\n",
       "    <tr>\n",
       "      <th>std</th>\n",
       "      <td>3.165916</td>\n",
       "      <td>17.577697</td>\n",
       "      <td>4.342453</td>\n",
       "      <td>2.880102</td>\n",
       "      <td>0.170758</td>\n",
       "      <td>1.85276</td>\n",
       "      <td>4.094624</td>\n",
       "    </tr>\n",
       "    <tr>\n",
       "      <th>min</th>\n",
       "      <td>16.000000</td>\n",
       "      <td>16.200000</td>\n",
       "      <td>0.000000</td>\n",
       "      <td>0.000000</td>\n",
       "      <td>0.000000</td>\n",
       "      <td>0.00000</td>\n",
       "      <td>0.000000</td>\n",
       "    </tr>\n",
       "    <tr>\n",
       "      <th>25%</th>\n",
       "      <td>23.000000</td>\n",
       "      <td>19.800000</td>\n",
       "      <td>10.000000</td>\n",
       "      <td>0.000000</td>\n",
       "      <td>0.000000</td>\n",
       "      <td>0.00000</td>\n",
       "      <td>1.000000</td>\n",
       "    </tr>\n",
       "    <tr>\n",
       "      <th>50%</th>\n",
       "      <td>25.000000</td>\n",
       "      <td>25.200000</td>\n",
       "      <td>13.000000</td>\n",
       "      <td>1.000000</td>\n",
       "      <td>0.000000</td>\n",
       "      <td>1.00000</td>\n",
       "      <td>3.000000</td>\n",
       "    </tr>\n",
       "    <tr>\n",
       "      <th>75%</th>\n",
       "      <td>27.000000</td>\n",
       "      <td>36.000000</td>\n",
       "      <td>16.000000</td>\n",
       "      <td>3.000000</td>\n",
       "      <td>0.000000</td>\n",
       "      <td>2.00000</td>\n",
       "      <td>5.000000</td>\n",
       "    </tr>\n",
       "    <tr>\n",
       "      <th>max</th>\n",
       "      <td>36.000000</td>\n",
       "      <td>144.000000</td>\n",
       "      <td>24.000000</td>\n",
       "      <td>23.000000</td>\n",
       "      <td>1.000000</td>\n",
       "      <td>12.00000</td>\n",
       "      <td>25.000000</td>\n",
       "    </tr>\n",
       "  </tbody>\n",
       "</table>\n",
       "</div>"
      ],
      "text/plain": [
       "              Age  Market_Value     Matches       Goals   Own Goals  \\\n",
       "count  500.000000    500.000000  500.000000  500.000000  500.000000   \n",
       "mean    24.968000     31.537800   12.396000    2.160000    0.030000   \n",
       "std      3.165916     17.577697    4.342453    2.880102    0.170758   \n",
       "min     16.000000     16.200000    0.000000    0.000000    0.000000   \n",
       "25%     23.000000     19.800000   10.000000    0.000000    0.000000   \n",
       "50%     25.000000     25.200000   13.000000    1.000000    0.000000   \n",
       "75%     27.000000     36.000000   16.000000    3.000000    0.000000   \n",
       "max     36.000000    144.000000   24.000000   23.000000    1.000000   \n",
       "\n",
       "         Assists         G\\A  \n",
       "count  500.00000  500.000000  \n",
       "mean     1.51200    3.672000  \n",
       "std      1.85276    4.094624  \n",
       "min      0.00000    0.000000  \n",
       "25%      0.00000    1.000000  \n",
       "50%      1.00000    3.000000  \n",
       "75%      2.00000    5.000000  \n",
       "max     12.00000   25.000000  "
      ]
     },
     "execution_count": 37,
     "metadata": {},
     "output_type": "execute_result"
    }
   ],
   "source": [
    "df.describe()"
   ]
  },
  {
   "cell_type": "code",
   "execution_count": 38,
   "id": "c6535e5d",
   "metadata": {},
   "outputs": [],
   "source": [
    "r1=df[\"Matches\"][:50]\n",
    "r2=df[\"Goals\"][:50]"
   ]
  },
  {
   "cell_type": "code",
   "execution_count": 39,
   "id": "c7e2b597",
   "metadata": {},
   "outputs": [
    {
     "data": {
      "image/png": "[encoded data removed]",
      "text/plain": [
       "<Figure size 432x288 with 1 Axes>"
      ]
     },
     "metadata": {},
     "output_type": "display_data"
    }
   ],
   "source": [
    "plt.scatter(r1,r2)\n",
    "plt.xlabel(\"Matches\",fontsize=15)\n",
    "plt.ylabel(\"Goals\",fontsize=15)\n",
    "plt.show()"
   ]
  },
  {
   "cell_type": "code",
   "execution_count": 40,
   "id": "38b6dbb8",
   "metadata": {},
   "outputs": [
    {
     "name": "stderr",
     "output_type": "stream",
     "text": [
      "C:\\Users\\90533\\anaconda3\\lib\\site-packages\\statsmodels\\tsa\\tsatools.py:142: FutureWarning:\n",
      "\n",
      "In a future version of pandas all arguments of concat except for the argument 'objs' will be keyword-only\n",
      "\n"
     ]
    },
    {
     "data": {
      "text/html": [
       "<table class=\"simpletable\">\n",
       "<caption>OLS Regression Results</caption>\n",
       "<tr>\n",
       "  <th>Dep. Variable:</th>         <td>Matches</td>     <th>  R-squared:         </th> <td>   0.040</td>\n",
       "</tr>\n",
       "<tr>\n",
       "  <th>Model:</th>                   <td>OLS</td>       <th>  Adj. R-squared:    </th> <td>   0.020</td>\n",
       "</tr>\n",
       "<tr>\n",
       "  <th>Method:</th>             <td>Least Squares</td>  <th>  F-statistic:       </th> <td>   1.975</td>\n",
       "</tr>\n",
       "<tr>\n",
       "  <th>Date:</th>             <td>Wed, 01 Mar 2023</td> <th>  Prob (F-statistic):</th>  <td> 0.166</td> \n",
       "</tr>\n",
       "<tr>\n",
       "  <th>Time:</th>                 <td>20:12:24</td>     <th>  Log-Likelihood:    </th> <td> -126.26</td>\n",
       "</tr>\n",
       "<tr>\n",
       "  <th>No. Observations:</th>      <td>    50</td>      <th>  AIC:               </th> <td>   256.5</td>\n",
       "</tr>\n",
       "<tr>\n",
       "  <th>Df Residuals:</th>          <td>    48</td>      <th>  BIC:               </th> <td>   260.3</td>\n",
       "</tr>\n",
       "<tr>\n",
       "  <th>Df Model:</th>              <td>     1</td>      <th>                     </th>     <td> </td>   \n",
       "</tr>\n",
       "<tr>\n",
       "  <th>Covariance Type:</th>      <td>nonrobust</td>    <th>                     </th>     <td> </td>   \n",
       "</tr>\n",
       "</table>\n",
       "<table class=\"simpletable\">\n",
       "<tr>\n",
       "    <td></td>       <th>coef</th>     <th>std err</th>      <th>t</th>      <th>P>|t|</th>  <th>[0.025</th>    <th>0.975]</th>  \n",
       "</tr>\n",
       "<tr>\n",
       "  <th>const</th> <td>   12.7918</td> <td>    0.605</td> <td>   21.158</td> <td> 0.000</td> <td>   11.576</td> <td>   14.007</td>\n",
       "</tr>\n",
       "<tr>\n",
       "  <th>Goals</th> <td>    0.1910</td> <td>    0.136</td> <td>    1.406</td> <td> 0.166</td> <td>   -0.082</td> <td>    0.464</td>\n",
       "</tr>\n",
       "</table>\n",
       "<table class=\"simpletable\">\n",
       "<tr>\n",
       "  <th>Omnibus:</th>       <td> 5.567</td> <th>  Durbin-Watson:     </th> <td>   2.053</td>\n",
       "</tr>\n",
       "<tr>\n",
       "  <th>Prob(Omnibus):</th> <td> 0.062</td> <th>  Jarque-Bera (JB):  </th> <td>   4.997</td>\n",
       "</tr>\n",
       "<tr>\n",
       "  <th>Skew:</th>          <td>-0.773</td> <th>  Prob(JB):          </th> <td>  0.0822</td>\n",
       "</tr>\n",
       "<tr>\n",
       "  <th>Kurtosis:</th>      <td> 3.096</td> <th>  Cond. No.          </th> <td>    6.32</td>\n",
       "</tr>\n",
       "</table><br/><br/>Notes:<br/>[1] Standard Errors assume that the covariance matrix of the errors is correctly specified."
      ],
      "text/plain": [
       "<class 'statsmodels.iolib.summary.Summary'>\n",
       "\"\"\"\n",
       "                            OLS Regression Results                            \n",
       "==============================================================================\n",
       "Dep. Variable:                Matches   R-squared:                       0.040\n",
       "Model:                            OLS   Adj. R-squared:                  0.020\n",
       "Method:                 Least Squares   F-statistic:                     1.975\n",
       "Date:                Wed, 01 Mar 2023   Prob (F-statistic):              0.166\n",
       "Time:                        20:12:24   Log-Likelihood:                -126.26\n",
       "No. Observations:                  50   AIC:                             256.5\n",
       "Df Residuals:                      48   BIC:                             260.3\n",
       "Df Model:                           1                                         \n",
       "Covariance Type:            nonrobust                                         \n",
       "==============================================================================\n",
       "                 coef    std err          t      P>|t|      [0.025      0.975]\n",
       "------------------------------------------------------------------------------\n",
       "const         12.7918      0.605     21.158      0.000      11.576      14.007\n",
       "Goals          0.1910      0.136      1.406      0.166      -0.082       0.464\n",
       "==============================================================================\n",
       "Omnibus:                        5.567   Durbin-Watson:                   2.053\n",
       "Prob(Omnibus):                  0.062   Jarque-Bera (JB):                4.997\n",
       "Skew:                          -0.773   Prob(JB):                       0.0822\n",
       "Kurtosis:                       3.096   Cond. No.                         6.32\n",
       "==============================================================================\n",
       "\n",
       "Notes:\n",
       "[1] Standard Errors assume that the covariance matrix of the errors is correctly specified.\n",
       "\"\"\""
      ]
     },
     "execution_count": 40,
     "metadata": {},
     "output_type": "execute_result"
    }
   ],
   "source": [
    "import statsmodels.api as sm\n",
    "R=sm.add_constant(r2)\n",
    "results=sm.OLS(r1,R).fit()\n",
    "results.summary()"
   ]
  },
  {
   "cell_type": "code",
   "execution_count": 41,
   "id": "52d38663",
   "metadata": {},
   "outputs": [
    {
     "data": {
      "image/png": "[encoded data removed]",
      "text/plain": [
       "<Figure size 720x432 with 1 Axes>"
      ]
     },
     "metadata": {},
     "output_type": "display_data"
    }
   ],
   "source": [
    "plt.figure(figsize=(10,6))\n",
    "plt.scatter(r2,r1)\n",
    "yhat= 0.1910*r2 + 12.7918\n",
    "fig=plt.plot(r2,yhat,lw=4,c=\"orange\",label=\"Regression Line\")\n",
    "plt.xlabel(\"Goals\",fontsize=15)\n",
    "plt.ylabel(\"Matches\",fontsize=15)\n",
    "plt.grid()\n",
    "plt.show()"
   ]
  },
  {
   "cell_type": "code",
   "execution_count": 42,
   "id": "770c2fdd",
   "metadata": {},
   "outputs": [
    {
     "data": {
      "text/html": [
       "<div>\n",
       "<style scoped>\n",
       "    .dataframe tbody tr th:only-of-type {\n",
       "        vertical-align: middle;\n",
       "    }\n",
       "\n",
       "    .dataframe tbody tr th {\n",
       "        vertical-align: top;\n",
       "    }\n",
       "\n",
       "    .dataframe thead th {\n",
       "        text-align: right;\n",
       "    }\n",
       "</style>\n",
       "<table border=\"1\" class=\"dataframe\">\n",
       "  <thead>\n",
       "    <tr style=\"text-align: right;\">\n",
       "      <th></th>\n",
       "      <th>Age</th>\n",
       "      <th>Market_Value</th>\n",
       "      <th>Matches</th>\n",
       "      <th>Goals</th>\n",
       "      <th>Own Goals</th>\n",
       "      <th>Assists</th>\n",
       "      <th>G\\A</th>\n",
       "    </tr>\n",
       "  </thead>\n",
       "  <tbody>\n",
       "    <tr>\n",
       "      <th>0</th>\n",
       "      <td>22</td>\n",
       "      <td>144.0</td>\n",
       "      <td>16</td>\n",
       "      <td>7</td>\n",
       "      <td>0</td>\n",
       "      <td>11</td>\n",
       "      <td>18</td>\n",
       "    </tr>\n",
       "    <tr>\n",
       "      <th>1</th>\n",
       "      <td>21</td>\n",
       "      <td>135.0</td>\n",
       "      <td>10</td>\n",
       "      <td>13</td>\n",
       "      <td>0</td>\n",
       "      <td>4</td>\n",
       "      <td>17</td>\n",
       "    </tr>\n",
       "    <tr>\n",
       "      <th>2</th>\n",
       "      <td>28</td>\n",
       "      <td>108.0</td>\n",
       "      <td>16</td>\n",
       "      <td>7</td>\n",
       "      <td>0</td>\n",
       "      <td>2</td>\n",
       "      <td>9</td>\n",
       "    </tr>\n",
       "    <tr>\n",
       "      <th>3</th>\n",
       "      <td>26</td>\n",
       "      <td>90.0</td>\n",
       "      <td>15</td>\n",
       "      <td>2</td>\n",
       "      <td>0</td>\n",
       "      <td>3</td>\n",
       "      <td>5</td>\n",
       "    </tr>\n",
       "    <tr>\n",
       "      <th>4</th>\n",
       "      <td>29</td>\n",
       "      <td>90.0</td>\n",
       "      <td>15</td>\n",
       "      <td>15</td>\n",
       "      <td>0</td>\n",
       "      <td>6</td>\n",
       "      <td>21</td>\n",
       "    </tr>\n",
       "  </tbody>\n",
       "</table>\n",
       "</div>"
      ],
      "text/plain": [
       "   Age  Market_Value  Matches  Goals  Own Goals  Assists  G\\A\n",
       "0   22         144.0       16      7          0       11   18\n",
       "1   21         135.0       10     13          0        4   17\n",
       "2   28         108.0       16      7          0        2    9\n",
       "3   26          90.0       15      2          0        3    5\n",
       "4   29          90.0       15     15          0        6   21"
      ]
     },
     "execution_count": 42,
     "metadata": {},
     "output_type": "execute_result"
    }
   ],
   "source": [
    "df.head()"
   ]
  },
  {
   "cell_type": "code",
   "execution_count": null,
   "id": "21d2cf3f",
   "metadata": {},
   "outputs": [],
   "source": []
  },
  {
   "cell_type": "code",
   "execution_count": null,
   "id": "3b146c92",
   "metadata": {},
   "outputs": [],
   "source": []
  }
 ],
 "metadata": {
  "kernelspec": {
   "display_name": "Python 3",
   "language": "python",
   "name": "python3"
  },
  "language_info": {
   "codemirror_mode": {
    "name": "ipython",
    "version": 3
   },
   "file_extension": ".py",
   "mimetype": "text/x-python",
   "name": "python",
   "nbconvert_exporter": "python",
   "pygments_lexer": "ipython3",
   "version": "3.8.10"
  },
  "vscode": {
   "interpreter": {
    "hash": "e3e4bb8216e742d12e197038a0612b0d74e45966c120b84272a49e0e4ae430b9"
   }
  }
 },
 "nbformat": 4,
 "nbformat_minor": 5
}
